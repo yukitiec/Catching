{
 "cells": [
  {
   "cell_type": "code",
   "execution_count": 5,
   "metadata": {},
   "outputs": [
    {
     "ename": "ValueError",
     "evalue": "invalid literal for int() with base 10: 'classes'",
     "output_type": "error",
     "traceback": [
      "\u001b[1;31m---------------------------------------------------------------------------\u001b[0m",
      "\u001b[1;31mValueError\u001b[0m                                Traceback (most recent call last)",
      "\u001b[1;32mc:\\Users\\kawaw\\utilities\\renameFile.ipynb Cell 1\u001b[0m line \u001b[0;36m1\n\u001b[0;32m      <a href='vscode-notebook-cell:/c%3A/Users/kawaw/utilities/renameFile.ipynb#W0sZmlsZQ%3D%3D?line=8'>9</a>\u001b[0m count \u001b[39m=\u001b[39m \u001b[39m0\u001b[39m\n\u001b[0;32m     <a href='vscode-notebook-cell:/c%3A/Users/kawaw/utilities/renameFile.ipynb#W0sZmlsZQ%3D%3D?line=9'>10</a>\u001b[0m \u001b[39mfor\u001b[39;00m i,file \u001b[39min\u001b[39;00m \u001b[39menumerate\u001b[39m(src_files): \u001b[39m#index,components=enumerate(file)\u001b[39;00m\n\u001b[1;32m---> <a href='vscode-notebook-cell:/c%3A/Users/kawaw/utilities/renameFile.ipynb#W0sZmlsZQ%3D%3D?line=10'>11</a>\u001b[0m     idx \u001b[39m=\u001b[39m \u001b[39mint\u001b[39;49m(((file\u001b[39m.\u001b[39;49msplit(\u001b[39m\"\u001b[39;49m\u001b[39m\\\\\u001b[39;49;00m\u001b[39m\"\u001b[39;49m))[\u001b[39m-\u001b[39;49m\u001b[39m1\u001b[39;49m]\u001b[39m.\u001b[39;49msplit(\u001b[39m\"\u001b[39;49m\u001b[39m.\u001b[39;49m\u001b[39m\"\u001b[39;49m))[\u001b[39m0\u001b[39;49m])\n\u001b[0;32m     <a href='vscode-notebook-cell:/c%3A/Users/kawaw/utilities/renameFile.ipynb#W0sZmlsZQ%3D%3D?line=12'>13</a>\u001b[0m     path2\u001b[39m=\u001b[39m os\u001b[39m.\u001b[39mpath\u001b[39m.\u001b[39mjoin(src_img_dir,\u001b[39mf\u001b[39m\u001b[39m\"\u001b[39m\u001b[39m{\u001b[39;00m(idx\u001b[39m+\u001b[39m\u001b[39m300\u001b[39m)\u001b[39m:\u001b[39;00m\u001b[39m03d\u001b[39m\u001b[39m}\u001b[39;00m\u001b[39m.txt\u001b[39m\u001b[39m\"\u001b[39m)\n\u001b[0;32m     <a href='vscode-notebook-cell:/c%3A/Users/kawaw/utilities/renameFile.ipynb#W0sZmlsZQ%3D%3D?line=14'>15</a>\u001b[0m     \u001b[39m# ファイル名の変更 \u001b[39;00m\n",
      "\u001b[1;31mValueError\u001b[0m: invalid literal for int() with base 10: 'classes'"
     ]
    }
   ],
   "source": [
    "import os\n",
    "import glob\n",
    "\n",
    " \n",
    "src_img_dir = r\"C:\\Users\\kawaw\\dataset_yolo\\20230809_gray\\valid\\labels\"\n",
    "src_files=glob.glob(\"{}/*.txt\".format(src_img_dir))\n",
    "src_files.sort()\n",
    "\n",
    "count = 0\n",
    "for i,file in enumerate(src_files): #index,components=enumerate(file)\n",
    "    idx = int(((file.split(\"\\\\\"))[-1].split(\".\"))[0])\n",
    "\n",
    "    path2= os.path.join(src_img_dir,f\"{(idx+300):03d}.txt\")\n",
    "\n",
    "    # ファイル名の変更 \n",
    "    os.rename(file, path2) \n",
    "    count += 1\n",
    "\n",
    "print(\"num of file is \",count)"
   ]
  },
  {
   "cell_type": "code",
   "execution_count": 10,
   "metadata": {},
   "outputs": [],
   "source": [
    "import cv2\n",
    "import glob\n",
    "\n",
    "src_img_dir = r\"C:\\Users\\kawaw\\dataset_yolo\\gray\\valid\\img\"\n",
    "\n",
    "src_files=glob.glob(\"{}/*.jpg\".format(src_img_dir))\n",
    "src_files.sort()\n",
    "\n",
    "count = 0\n",
    "for i,file in enumerate(src_files): #index,components=enumerate(file)\n",
    "    img = cv2.imread(file)\n",
    "    gray = cv2.cvtColor(img,cv2.COLOR_BGR2GRAY)\n",
    "    cv2.imwrite(file,gray)"
   ]
  },
  {
   "cell_type": "code",
   "execution_count": 3,
   "metadata": {},
   "outputs": [
    {
     "name": "stdout",
     "output_type": "stream",
     "text": [
      "C:\\Users\\kawaw\\dataset_yolo\\valid\\img\\0001.jpg\n"
     ]
    }
   ],
   "source": [
    "print(a)"
   ]
  },
  {
   "cell_type": "code",
   "execution_count": 8,
   "metadata": {},
   "outputs": [
    {
     "name": "stdout",
     "output_type": "stream",
     "text": [
      "['0001', 'jpg']\n"
     ]
    }
   ],
   "source": [
    "b = a.split(\"\\\\\")\n",
    "print(b[-1].split(\".\"))"
   ]
  },
  {
   "cell_type": "code",
   "execution_count": null,
   "metadata": {},
   "outputs": [],
   "source": []
  }
 ],
 "metadata": {
  "kernelspec": {
   "display_name": "kawawaki",
   "language": "python",
   "name": "python3"
  },
  "language_info": {
   "codemirror_mode": {
    "name": "ipython",
    "version": 3
   },
   "file_extension": ".py",
   "mimetype": "text/x-python",
   "name": "python",
   "nbconvert_exporter": "python",
   "pygments_lexer": "ipython3",
   "version": "3.11.4"
  },
  "orig_nbformat": 4
 },
 "nbformat": 4,
 "nbformat_minor": 2
}
