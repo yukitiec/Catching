{
 "cells": [
  {
   "cell_type": "code",
   "execution_count": 1,
   "metadata": {},
   "outputs": [],
   "source": [
    "import glob\n",
    "\n",
    "import cv2\n",
    "import os\n",
    "import re\n",
    "\n",
    "class MakeVideo():\n",
    "    def __init__(self,imgsize,src,videoname):\n",
    "        self.imgsize = imgsize\n",
    "        self.src = src\n",
    "        self.videoname = videoname\n",
    "        self.main()\n",
    "\n",
    "    def atoi(self,text):\n",
    "        return int(text) if text.isdigit() else text\n",
    "\n",
    "    def natural_keys(self,text):\n",
    "        return [ self.atoi(c) for c in re.split(r'(\\d+)', text) ]\n",
    "\n",
    "    def main(self):\n",
    "        img_array=[]\n",
    "        for filename in sorted(glob.glob(f\"{self.src}/*.png\"), key=self.natural_keys):\n",
    "            img = cv2.imread(filename)\n",
    "            height, width, layers = img.shape\n",
    "            size = (width, height)\n",
    "            img_array.append(img)\n",
    "\n",
    "        out = cv2.VideoWriter(self.videoname, cv2.VideoWriter_fourcc(*'mp4v'), 30.0, self.imgsize)\n",
    "\n",
    "        for i in range(len(img_array)):\n",
    "            out.write(img_array[i])\n",
    "        out.release()"
   ]
  },
  {
   "cell_type": "code",
   "execution_count": 3,
   "metadata": {},
   "outputs": [],
   "source": [
    "src_left = r\"C:\\Users\\kawaw\\data_tracking\\1212\\humanMotion\\left_short\"\n",
    "src_right = r\"C:\\Users\\kawaw\\data_tracking\\1212\\humanMotion\\right_short\"\n",
    "videoname_left = r\"C:\\Users\\kawaw\\data_tracking\\1212\\humanMotion\\humanMotion_short_left.mp4\"\n",
    "videoname_right = r\"C:\\Users\\kawaw\\data_tracking\\1212\\humanMotion\\humanMotion_short_right.mp4\"\n",
    "imgsize = (640,640)\n",
    "mkVideo_left = MakeVideo(imgsize=imgsize,src=src_left,videoname=videoname_left)\n",
    "mkVideo_right = MakeVideo(imgsize=imgsize,src=src_right,videoname=videoname_right)"
   ]
  },
  {
   "cell_type": "code",
   "execution_count": null,
   "metadata": {},
   "outputs": [],
   "source": []
  }
 ],
 "metadata": {
  "kernelspec": {
   "display_name": "kawawaki",
   "language": "python",
   "name": "python3"
  },
  "language_info": {
   "codemirror_mode": {
    "name": "ipython",
    "version": 3
   },
   "file_extension": ".py",
   "mimetype": "text/x-python",
   "name": "python",
   "nbconvert_exporter": "python",
   "pygments_lexer": "ipython3",
   "version": "3.11.5"
  },
  "orig_nbformat": 4
 },
 "nbformat": 4,
 "nbformat_minor": 2
}
