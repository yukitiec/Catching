{
 "cells": [
  {
   "cell_type": "code",
   "execution_count": 8,
   "metadata": {},
   "outputs": [],
   "source": [
    "import glob\n",
    "\n",
    "import cv2\n",
    "import os\n",
    "import re\n",
    "\n",
    "def atoi(text):\n",
    "    return int(text) if text.isdigit() else text\n",
    "\n",
    "def natural_keys(text):\n",
    "    return [ atoi(c) for c in re.split(r'(\\d+)', text) ]\n",
    "\n",
    "#src = r'C:\\Users\\kawaw\\cpp\\yolov8PoseEstimation\\yolov8PoseEstimation\\video\\poseEstimation'\n",
    "src = r'C:\\Users\\kawaw\\cpp\\ximea_test\\ximea_test\\imgs\\joints_front_right'\n",
    "img_array = []\n",
    "for filename in sorted(glob.glob(f\"{src}/*.png\"), key=natural_keys):\n",
    "    img = cv2.imread(filename)\n",
    "    height, width, layers = img.shape\n",
    "    size = (width, height)\n",
    "    img_array.append(img)\n",
    "\n",
    "name = r'C:\\Users\\kawaw\\data_Tracking\\joinitsTracking\\joints_front_right.mp4'\n",
    "\n",
    "out = cv2.VideoWriter(name, cv2.VideoWriter_fourcc(*'mp4v'), 30.0, (320,320))\n",
    "\n",
    "\n",
    "\n",
    "for i in range(len(img_array)):\n",
    "    out.write(img_array[i])\n",
    "out.release()"
   ]
  },
  {
   "cell_type": "code",
   "execution_count": null,
   "metadata": {},
   "outputs": [],
   "source": []
  }
 ],
 "metadata": {
  "kernelspec": {
   "display_name": "kawawaki",
   "language": "python",
   "name": "python3"
  },
  "language_info": {
   "codemirror_mode": {
    "name": "ipython",
    "version": 3
   },
   "file_extension": ".py",
   "mimetype": "text/x-python",
   "name": "python",
   "nbconvert_exporter": "python",
   "pygments_lexer": "ipython3",
   "version": "3.11.4"
  },
  "orig_nbformat": 4
 },
 "nbformat": 4,
 "nbformat_minor": 2
}
