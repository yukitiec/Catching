{
 "cells": [
  {
   "cell_type": "markdown",
   "metadata": {},
   "source": [
    "# Import library"
   ]
  },
  {
   "cell_type": "code",
   "execution_count": 1,
   "metadata": {},
   "outputs": [],
   "source": [
    "import shutil\n",
    "import os\n",
    "import glob"
   ]
  },
  {
   "cell_type": "markdown",
   "metadata": {},
   "source": [
    "# Move Files"
   ]
  },
  {
   "cell_type": "code",
   "execution_count": 12,
   "metadata": {},
   "outputs": [],
   "source": [
    "def moveFile(pos,saveDir):\n",
    "  src_img_dir=r\"C:\\Users\\kawaw\\cpp\\ximea_test\\ximea_test\\imgs\\1212\\calibration\\camera\\{pos}2\".format(pos=pos)\n",
    "\n",
    "  #フォルダに存在するファイルを取得する、0001.jpg~0005.jpg→{}/*.jpg\n",
    "  src_files=glob.glob(\"{}/*.png\".format(src_img_dir))\n",
    "  src_files.sort()\n",
    "\n",
    "  if not os.path.exists(saveDir):\n",
    "    os.makedirs(saveDir)\n",
    "\n",
    "  num_file = sum(os.path.isfile(os.path.join(saveDir,name)) for name in os.listdir(saveDir))\n",
    "  print(num_file)\n",
    "\n",
    "  for i,file in enumerate(src_files): #index,components=enumerate(file)\n",
    "    idx = int(file.split(\"\\\\\")[-1].split(\".\")[0])\n",
    "    print(idx)\n",
    "    #print(file)\n",
    "    current_path = file#\"{dir}/{index}.png\".format(dir=src_img_dir,index = idx)\n",
    "    new_path = \"{dir}/{index}.png\".format(dir=saveDir,index = num_file+idx)\n",
    "    move = shutil.move(file,new_path)"
   ]
  },
  {
   "cell_type": "code",
   "execution_count": 13,
   "metadata": {},
   "outputs": [
    {
     "name": "stdout",
     "output_type": "stream",
     "text": [
      "211\n",
      "329\n",
      "330\n",
      "331\n",
      "332\n",
      "333\n",
      "334\n",
      "335\n",
      "336\n",
      "337\n",
      "338\n",
      "339\n",
      "340\n",
      "341\n",
      "342\n",
      "343\n",
      "344\n",
      "345\n",
      "346\n",
      "347\n",
      "348\n",
      "349\n",
      "350\n",
      "351\n",
      "352\n",
      "353\n",
      "354\n",
      "355\n",
      "356\n",
      "357\n",
      "358\n",
      "359\n",
      "360\n",
      "361\n",
      "362\n",
      "363\n",
      "364\n",
      "365\n",
      "366\n",
      "367\n",
      "368\n",
      "369\n",
      "370\n",
      "371\n",
      "372\n",
      "373\n",
      "374\n",
      "375\n",
      "376\n",
      "377\n",
      "378\n",
      "379\n",
      "380\n",
      "381\n",
      "382\n",
      "383\n",
      "384\n",
      "385\n",
      "386\n",
      "387\n",
      "388\n",
      "389\n",
      "390\n",
      "391\n",
      "392\n",
      "393\n",
      "394\n",
      "395\n",
      "396\n",
      "397\n",
      "398\n",
      "399\n",
      "400\n",
      "401\n",
      "402\n",
      "403\n",
      "404\n",
      "405\n",
      "406\n",
      "407\n",
      "408\n",
      "409\n",
      "410\n",
      "411\n",
      "412\n",
      "413\n",
      "414\n",
      "415\n",
      "416\n",
      "417\n",
      "418\n",
      "419\n",
      "420\n",
      "421\n",
      "422\n",
      "423\n",
      "424\n",
      "425\n",
      "426\n",
      "427\n",
      "428\n",
      "429\n",
      "430\n",
      "431\n",
      "432\n",
      "433\n",
      "434\n",
      "435\n",
      "436\n",
      "437\n",
      "438\n",
      "439\n",
      "440\n",
      "441\n",
      "442\n",
      "443\n",
      "444\n",
      "445\n",
      "446\n"
     ]
    }
   ],
   "source": [
    "SAVEDIR=r\"C:\\Users\\kawaw\\cpp\\ximea_test\\ximea_test\\imgs\\1212\\calibration\\camera\\right\"\n",
    "date = \"20231114\"\n",
    "times = [\"15289\",\"15295\",\"152312\",\"152450\",\"152611\",\"152658\",\"152955\",\"153252\",\"154710\"]\n",
    "poss = [\"left\",\"right\"]\n",
    "#for time in times:\n",
    "moveFile(pos=\"right\",saveDir=SAVEDIR)"
   ]
  },
  {
   "cell_type": "markdown",
   "metadata": {},
   "source": [
    "# Rotate images"
   ]
  },
  {
   "cell_type": "code",
   "execution_count": 9,
   "metadata": {},
   "outputs": [
    {
     "name": "stdout",
     "output_type": "stream",
     "text": [
      "<class 'int'> 1\n"
     ]
    }
   ],
   "source": [
    "from PIL import Image\n",
    "import random\n",
    "\n",
    "# Load the image\n",
    "filePath = r\"C:\\Users\\kawaw\\cpp\\ximea_test\\ximea_test\\imgs\\1026\\0001.png\"\n",
    "image = Image.open(filePath)\n",
    "index = int((filePath.split(\"\\\\\")[-1]).split(\".\")[0])\n",
    "print(type(index),index)\n",
    "# Generate a random rotation angle\n",
    "rotation_angle = random.randint(0, 360)\n",
    "\n",
    "# Rotate the image without changing its size\n",
    "rotated_image = image.rotate(rotation_angle, expand=True)\n",
    "\n",
    "# Save the rotated image\n",
    "rotated_image.save(r\"C:\\Users\\kawaw\\cpp\\ximea_test\\ximea_test\\imgs\\1026\\0001_rotated.png\")"
   ]
  },
  {
   "cell_type": "code",
   "execution_count": 10,
   "metadata": {},
   "outputs": [],
   "source": [
    "import os\n",
    "import glob\n",
    "from PIL import Image\n",
    "import random\n",
    "\n",
    "# Define the directory where your image files are located\n",
    "directory_path = r\"C:\\Users\\kawaw\\cpp\\ximea_test\\ximea_test\\imgs\\20231114\"\n",
    "\n",
    "def rotateImg(dirPath=directory_path):\n",
    "    # Use glob to get all image files in the directory\n",
    "    image_files = glob.glob(os.path.join(dirPath, \"*.png\"))\n",
    "    num_file = sum(os.path.isfile(os.path.join(dirPath,name)) for name in os.listdir(dirPath))\n",
    "    print(num_file)\n",
    "    count = 1\n",
    "    for file in image_files:\n",
    "        image = Image.open(file)\n",
    "        # Generate a random rotation angle\n",
    "        rotation_angle = random.randint(30, 300)\n",
    "\n",
    "        # Rotate the image without changing its size\n",
    "        rotated_image = image.rotate(rotation_angle, expand=True)\n",
    "\n",
    "        # Save the rotated image\n",
    "        fileName = os.path.join(dirPath,f\"{num_file+count:04d}.png\")\n",
    "        rotated_image.save(fileName)\n",
    "        \n",
    "        count+=1\n",
    "    num_file = sum(os.path.isfile(os.path.join(dirPath,name)) for name in os.listdir(dirPath))\n",
    "    print(num_file)\n"
   ]
  },
  {
   "cell_type": "code",
   "execution_count": 11,
   "metadata": {},
   "outputs": [
    {
     "name": "stdout",
     "output_type": "stream",
     "text": [
      "579\n",
      "1158\n"
     ]
    }
   ],
   "source": [
    "rotateImg()"
   ]
  },
  {
   "cell_type": "code",
   "execution_count": null,
   "metadata": {},
   "outputs": [],
   "source": []
  }
 ],
 "metadata": {
  "kernelspec": {
   "display_name": "kawawaki",
   "language": "python",
   "name": "python3"
  },
  "language_info": {
   "codemirror_mode": {
    "name": "ipython",
    "version": 3
   },
   "file_extension": ".py",
   "mimetype": "text/x-python",
   "name": "python",
   "nbconvert_exporter": "python",
   "pygments_lexer": "ipython3",
   "version": "3.11.4"
  },
  "orig_nbformat": 4
 },
 "nbformat": 4,
 "nbformat_minor": 2
}
