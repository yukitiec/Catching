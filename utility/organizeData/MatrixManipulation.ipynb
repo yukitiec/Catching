{
 "cells": [
  {
   "cell_type": "markdown",
   "metadata": {},
   "source": [
    "# Import library"
   ]
  },
  {
   "cell_type": "code",
   "execution_count": 1,
   "metadata": {},
   "outputs": [
    {
     "name": "stderr",
     "output_type": "stream",
     "text": [
      "c:\\Users\\kawaw\\anaconda3\\envs\\kawawaki\\Lib\\site-packages\\numpy\\_distributor_init.py:30: UserWarning: loaded more than 1 DLL from .libs:\n",
      "c:\\Users\\kawaw\\anaconda3\\envs\\kawawaki\\Lib\\site-packages\\numpy\\.libs\\libopenblas.FB5AE2TYXYH2IJRDKGDGQ3XBKLKTF43H.gfortran-win_amd64.dll\n",
      "c:\\Users\\kawaw\\anaconda3\\envs\\kawawaki\\Lib\\site-packages\\numpy\\.libs\\libopenblas64__v0.3.23-gcc_10_3_0.dll\n",
      "  warnings.warn(\"loaded more than 1 DLL from .libs:\"\n"
     ]
    }
   ],
   "source": [
    "#import basic module\n",
    "import os\n",
    "import time\n",
    "from ximea import xiapi\n",
    "import cv2\n",
    "import time\n",
    "import numpy as np\n",
    "import csv"
   ]
  },
  {
   "cell_type": "markdown",
   "metadata": {},
   "source": [
    "# Rotational Matrix"
   ]
  },
  {
   "cell_type": "markdown",
   "metadata": {},
   "source": [
    "0. get data "
   ]
  },
  {
   "cell_type": "code",
   "execution_count": 76,
   "metadata": {},
   "outputs": [],
   "source": [
    "camera1 = [78.62,130.64,440.5,1.8744,1.573,2.8379]\n",
    "camera2 = [70.32,136.91,446.94,1.9131,1.53318,2.7971]\n",
    "camera3 = [44.27,167.62,516.2,1.47901,1.49827,3.02454]\n",
    "cameras = np.array([camera1,camera2,camera3])\n",
    "robot1 = [145.2,-35.9,907.4,0.394,1.898,-2.442]\n",
    "robot2 = [244.4,-10.4,908.8,0.219,1.81,-2.81]\n",
    "robot3 = [186,77.9,899,0.078,2.015,2.658]\n",
    "robots = np.array([robot1,robot2,robot3])"
   ]
  },
  {
   "cell_type": "markdown",
   "metadata": {},
   "source": [
    "1. make coordinate Matrix from position and angle"
   ]
  },
  {
   "cell_type": "code",
   "execution_count": 82,
   "metadata": {},
   "outputs": [
    {
     "name": "stdout",
     "output_type": "stream",
     "text": [
      "Rotation Matrix:\n",
      "[[ 2.10282861e-03 -8.21191656e-01  5.70648616e-01]\n",
      " [-6.58998927e-04  5.70648616e-01  8.21194084e-01]\n",
      " [-9.99997572e-01 -2.10288724e-03  6.58811814e-04]]\n",
      "transformation matrxi= [[ 2.10282861e-03 -8.21191656e-01  5.70648616e-01  7.86200000e+01]\n",
      " [-6.58998927e-04  5.70648616e-01  8.21194084e-01  1.30640000e+02]\n",
      " [-9.99997572e-01 -2.10288724e-03  6.58811814e-04  4.40500000e+02]\n",
      " [ 0.00000000e+00  0.00000000e+00  0.00000000e+00  1.00000000e+00]]\n",
      "Rotation Matrix:\n",
      "[[-0.0353979  -0.77265409  0.6338396 ]\n",
      " [ 0.01270076  0.63383805  0.7733615 ]\n",
      " [-0.99929259  0.03542562 -0.01262324]]\n",
      "transformation matrxi= [[-3.53979022e-02 -7.72654093e-01  6.33839602e-01  7.03200000e+01]\n",
      " [ 1.27007594e-02  6.33838054e-01  7.73361502e-01  1.36910000e+02]\n",
      " [-9.99292589e-01  3.54256191e-02 -1.26232437e-02  4.46940000e+02]\n",
      " [ 0.00000000e+00  0.00000000e+00  0.00000000e+00  1.00000000e+00]]\n",
      "Rotation Matrix:\n",
      "[[-0.07196691 -0.99708092  0.02550295]\n",
      " [ 0.0084626   0.02495792  0.99965268]\n",
      " [-0.99737112  0.07215774  0.00664176]]\n",
      "transformation matrxi= [[-7.19669099e-02 -9.97080921e-01  2.55029465e-02  4.42700000e+01]\n",
      " [ 8.46260275e-03  2.49579156e-02  9.99652683e-01  1.67620000e+02]\n",
      " [-9.97371119e-01  7.21577359e-02  6.64175568e-03  5.16200000e+02]\n",
      " [ 0.00000000e+00  0.00000000e+00  0.00000000e+00  1.00000000e+00]]\n",
      "Rotation Matrix:\n",
      "[[ 0.24590179  0.31644139 -0.9161862 ]\n",
      " [ 0.20694904 -0.94055431 -0.26931335]\n",
      " [-0.94694477 -0.12337923 -0.29677123]]\n",
      "transformation matrxi= [[ 2.45901786e-01  3.16441388e-01 -9.16186204e-01  1.45200000e+02]\n",
      " [ 2.06949045e-01 -9.40554312e-01 -2.69313347e-01 -3.59000000e+01]\n",
      " [-9.46944774e-01 -1.23379227e-01 -2.96771228e-01  9.07400000e+02]\n",
      " [ 0.00000000e+00  0.00000000e+00  0.00000000e+00  1.00000000e+00]]\n",
      "Rotation Matrix:\n",
      "[[ 0.22402235  0.11820381 -0.96738919]\n",
      " [ 0.07713209 -0.99165433 -0.10330693]\n",
      " [-0.97152696 -0.05147369 -0.23127004]]\n",
      "transformation matrxi= [[ 2.24022352e-01  1.18203810e-01 -9.67389190e-01  2.44400000e+02]\n",
      " [ 7.71320941e-02 -9.91654334e-01 -1.03306930e-01 -1.04000000e+01]\n",
      " [-9.71526956e-01 -5.14736927e-02 -2.31270044e-01  9.08800000e+02]\n",
      " [ 0.00000000e+00  0.00000000e+00  0.00000000e+00  1.00000000e+00]]\n",
      "Rotation Matrix:\n",
      "[[ 0.38046088 -0.52584006 -0.76075078]\n",
      " [-0.19981266 -0.84992408  0.48754893]\n",
      " [-0.90295316 -0.03348566 -0.42843237]]\n",
      "transformation matrxi= [[ 3.80460884e-01 -5.25840058e-01 -7.60750779e-01  1.86000000e+02]\n",
      " [-1.99812658e-01 -8.49924081e-01  4.87548929e-01  7.79000000e+01]\n",
      " [-9.02953164e-01 -3.34856611e-02 -4.28432368e-01  8.99000000e+02]\n",
      " [ 0.00000000e+00  0.00000000e+00  0.00000000e+00  1.00000000e+00]]\n"
     ]
    }
   ],
   "source": [
    "def pose2matrix(pose):\n",
    "    H_c = np.zeros((4,4))\n",
    "    # Create rotation matrices for each axis\n",
    "    rotation_x = np.array([[1, 0, 0],\n",
    "                        [0, np.cos(pose[3]), -np.sin(pose[3])],\n",
    "                        [0, np.sin(pose[3]), np.cos(pose[3])]])\n",
    "\n",
    "    rotation_y = np.array([[np.cos(pose[4]), 0, np.sin(pose[4])],\n",
    "                        [0, 1, 0],\n",
    "                        [-np.sin(pose[4]), 0, np.cos(pose[4])]])\n",
    "\n",
    "    rotation_z = np.array([[np.cos(pose[5]), -np.sin(pose[5]), 0],\n",
    "                        [np.sin(pose[5]), np.cos(pose[5]), 0],\n",
    "                        [0, 0, 1]])\n",
    "\n",
    "    # Combine the rotation matrices to get the final rotation matrix : Z rotation -> Y rotation -> X rotation\n",
    "    rotation_matrix = np.dot(rotation_z, np.dot(rotation_y, rotation_x))\n",
    "\n",
    "    print(\"Rotation Matrix:\")\n",
    "    print(rotation_matrix)\n",
    "\n",
    "    H_c[:3,:3]=rotation_matrix\n",
    "    H_c[:3,3] = np.array(pose[:3])\n",
    "    H_c[3,3]=1\n",
    "    print(\"transformation matrxi=\",H_c)\n",
    "    return H_c\n",
    "H_c = np.zeros((3,4,4))\n",
    "for i in range(3):\n",
    "    H_c[i] = pose2matrix(pose=cameras[i])\n",
    "H_r = np.zeros((3,4,4))\n",
    "for j in range(3):\n",
    "    H_r[j] = pose2matrix(pose=robots[j])"
   ]
  },
  {
   "cell_type": "markdown",
   "metadata": {},
   "source": [
    "3. calculate transformation matrix"
   ]
  },
  {
   "cell_type": "code",
   "execution_count": 84,
   "metadata": {},
   "outputs": [
    {
     "name": "stdout",
     "output_type": "stream",
     "text": [
      "Transformation Matrix (4x4):\n",
      "[[[-7.82162327e-01 -5.71951899e-01 -2.47170224e-01  3.90291882e+02]\n",
      "  [ 6.19127243e-01 -7.58020922e-01 -2.05148089e-01  1.04819803e+02]\n",
      "  [-7.00253615e-02 -3.13488926e-01  9.47006411e-01  5.36703263e+02]\n",
      "  [ 0.00000000e+00  0.00000000e+00  0.00000000e+00  1.00000000e+00]]\n",
      "\n",
      " [[-7.12430158e-01 -6.70374230e-01 -2.07464843e-01  4.79003362e+02]\n",
      "  [ 6.97995442e-01 -7.07462219e-01 -1.10903430e-01  8.69427921e+01]\n",
      "  [-7.24267370e-02 -2.23820464e-01  9.71935578e-01  5.10139421e+02]\n",
      "  [ 0.00000000e+00  0.00000000e+00  0.00000000e+00  1.00000000e+00]]\n",
      "\n",
      " [[ 4.77523109e-01 -7.70390740e-01 -4.22456847e-01  5.12065172e+02]\n",
      "  [ 8.74256920e-01  4.64476326e-01  1.41196958e-01 -1.11544745e+02]\n",
      "  [ 8.74443752e-02 -4.36760632e-01  8.95317615e-01  5.06175702e+02]\n",
      "  [ 0.00000000e+00  0.00000000e+00  0.00000000e+00  1.00000000e+00]]]\n"
     ]
    }
   ],
   "source": [
    "T = np.zeros((3,4,4))\n",
    "for i in range(3):\n",
    "    T[i] = np.dot(H_r[i],np.linalg.inv(H_c[i]))\n",
    "print(\"Transformation Matrix (4x4):\")\n",
    "print(T)"
   ]
  },
  {
   "cell_type": "markdown",
   "metadata": {},
   "source": [
    "4. roation matrix to angle"
   ]
  },
  {
   "cell_type": "code",
   "execution_count": 85,
   "metadata": {},
   "outputs": [
    {
     "name": "stdout",
     "output_type": "stream",
     "text": [
      "1-th  transformation matrix\n",
      "Pitch: -0.3196774504944793 degrees\n",
      "Yaw: 0.07008271700956438 degrees\n",
      "Roll: 2.472020201145544 degrees\n",
      "2-th  transformation matrix\n",
      "Pitch: -0.22633737052670258 degrees\n",
      "Yaw: 0.07249020758827139 degrees\n",
      "Roll: 2.3664284310684893 degrees\n",
      "3-th  transformation matrix\n",
      "Pitch: -0.45386234554475346 degrees\n",
      "Yaw: -0.08755620125001007 degrees\n",
      "Roll: 1.0708717565962165 degrees\n"
     ]
    }
   ],
   "source": [
    "def rotation_matrix_to_euler_angles(R):\n",
    "    sy = np.sqrt(R[0, 0] ** 2 + R[1, 0] ** 2)\n",
    "\n",
    "    singular = sy < 1e-6\n",
    "\n",
    "    if not singular:\n",
    "        x = np.arctan2(R[2, 1], R[2, 2])\n",
    "        y = np.arctan2(-R[2, 0], sy)\n",
    "        z = np.arctan2(R[1, 0], R[0, 0])\n",
    "    else:\n",
    "        x = np.arctan2(-R[1, 1], R[1, 2])\n",
    "        y = np.arctan2(-R[2, 0], sy)\n",
    "        z = 0\n",
    "    return [x, y, z]\n",
    "\n",
    "def matrix2position(T):\n",
    "    x = T[0,3]\n",
    "    y = T[1,3]\n",
    "    z = T[2,3]\n",
    "    return [x,y,z]\n",
    "\n",
    "for i in range(3):\n",
    "    print(f\"{i+1}-th  transformation matrix\")\n",
    "    # Calculate Euler angles\n",
    "    [pitch, yaw, roll] = rotation_matrix_to_euler_angles(T[i,:3,:3])\n",
    "\n",
    "    print(f\"Pitch: {pitch} degrees\")\n",
    "    print(f\"Yaw: {yaw} degrees\")\n",
    "    print(f\"Roll: {roll} degrees\")"
   ]
  },
  {
   "cell_type": "markdown",
   "metadata": {},
   "source": [
    "# Evaluation of transformation matrix"
   ]
  },
  {
   "cell_type": "markdown",
   "metadata": {},
   "source": [
    "## convert Camera to Robot coordinates "
   ]
  },
  {
   "cell_type": "code",
   "execution_count": 86,
   "metadata": {},
   "outputs": [],
   "source": [
    "evaluationMatrix = np.zeros((3,3,4,4))\n",
    "rawData = np.zeros((3,3,4,4))\n",
    "for i in range(3):\n",
    "    for j in range(3):\n",
    "        evaluationMatrix[i][j] = np.dot(T[i],H_c[(i+j+1)%3])\n",
    "        rawData[i][j] = H_r[(i+j+1)%3]"
   ]
  },
  {
   "cell_type": "markdown",
   "metadata": {},
   "source": [
    "## Calculate RMSE"
   ]
  },
  {
   "cell_type": "code",
   "execution_count": 87,
   "metadata": {},
   "outputs": [],
   "source": [
    "def rmse(H_target,H_reconstruct):\n",
    "    angle_target = rotation_matrix_to_euler_angles(H_target[:3,:3])\n",
    "    angle_reconstruct= rotation_matrix_to_euler_angles(H_reconstruct[:3,:3])\n",
    "    pos_target = matrix2position(H_target)\n",
    "    pos_reconstruct = matrix2position(H_reconstruct)\n",
    "    rmse_angle = 0\n",
    "    rmse_pos = 0\n",
    "    names = [\"x\",\"y\",\"z\"]\n",
    "    for i in range(3):\n",
    "        rmse_angle += (angle_target[i]-angle_reconstruct[i])**2\n",
    "        rmse_pos += (pos_target[i]-pos_reconstruct[i])**2\n",
    "        print(names[i],f\":: angle : {angle_target[i]-angle_reconstruct[i]}, position : {pos_target[i]-pos_reconstruct[i]}\")\n",
    "    rmse_angle = round(rmse_angle**(1/2),2)\n",
    "    rmse_pos = round(rmse_pos**(1/2),2)\n",
    "    print(f\"rmse :: angle = {rmse_angle} [rad]\")\n",
    "    print(f\"rmse :: position = {rmse_pos} [mm]\")\n"
   ]
  },
  {
   "cell_type": "code",
   "execution_count": 88,
   "metadata": {},
   "outputs": [
    {
     "name": "stdout",
     "output_type": "stream",
     "text": [
      "x :: angle : -0.13684860972728163, position : 97.88596732927519\n",
      "y :: angle : 0.0852052876087599, position : 36.71270099380343\n",
      "z :: angle : -0.24383030899940583, position : -3.3143562194459264\n",
      "rmse :: angle = 0.29 [rad]\n",
      "rmse :: position = 104.6 [mm]\n",
      "x :: angle : -5.805899540570703, position : 53.79429120040453\n",
      "y :: angle : -0.10233626797622697, position : 178.62834486841064\n",
      "z :: angle : -0.9596526247817074, position : -70.9009359755637\n",
      "rmse :: angle = 5.89 [rad]\n",
      "rmse :: position = 199.57 [mm]\n",
      "x :: angle : 0.0, position : -2.842170943040401e-14\n",
      "y :: angle : 0.0, position : -2.1316282072803006e-14\n",
      "z :: angle : 0.0, position : 0.0\n",
      "rmse :: angle = 0.0 [rad]\n",
      "rmse :: position = 0.0 [mm]\n",
      "x :: angle : -5.647233190015326, position : -42.00259796082497\n",
      "y :: angle : -0.18293190527028802, position : 135.8901176039132\n",
      "z :: angle : -0.6957511565262953, position : -72.12944819915674\n",
      "rmse :: angle = 5.69 [rad]\n",
      "rmse :: position = 159.48 [mm]\n",
      "x :: angle : 0.09055774204479716, position : -98.82614970012452\n",
      "y :: angle : -0.08974119119020929, position : -36.44336837631351\n",
      "z :: angle : 0.19930935020153717, position : 4.057052733260548\n",
      "rmse :: angle = 0.24 [rad]\n",
      "rmse :: position = 105.41 [mm]\n",
      "x :: angle : 0.0, position : -2.842170943040401e-14\n",
      "y :: angle : 2.220446049250313e-16, position : -8.881784197001252e-15\n",
      "z :: angle : 0.0, position : 0.0\n",
      "rmse :: angle = 0.0 [rad]\n",
      "rmse :: position = 0.0 [mm]\n",
      "x :: angle : -0.41477010720521346, position : -117.67195168284928\n",
      "y :: angle : 0.13551164421534034, position : -115.96578091052407\n",
      "z :: angle : 1.017818926875749, position : 57.02042099280209\n",
      "rmse :: angle = 1.11 [rad]\n",
      "rmse :: position = 174.77 [mm]\n",
      "x :: angle : -0.5977775983124678, position : -6.957537840669687\n",
      "y :: angle : 0.2041297634713679, position : -87.03102345481122\n",
      "z :: angle : 0.7293222613281559, position : 56.11885302911969\n",
      "rmse :: angle = 0.96 [rad]\n",
      "rmse :: position = 103.79 [mm]\n",
      "x :: angle : 0.0, position : 0.0\n",
      "y :: angle : 2.220446049250313e-16, position : 0.0\n",
      "z :: angle : -5.551115123125783e-17, position : 0.0\n",
      "rmse :: angle = 0.0 [rad]\n",
      "rmse :: position = 0.0 [mm]\n"
     ]
    }
   ],
   "source": [
    "for i in range(3):\n",
    "    for j in range(3):\n",
    "        rmse(rawData[i][j],evaluationMatrix[i][j])"
   ]
  },
  {
   "cell_type": "code",
   "execution_count": null,
   "metadata": {},
   "outputs": [],
   "source": []
  }
 ],
 "metadata": {
  "kernelspec": {
   "display_name": "kawawaki",
   "language": "python",
   "name": "python3"
  },
  "language_info": {
   "codemirror_mode": {
    "name": "ipython",
    "version": 3
   },
   "file_extension": ".py",
   "mimetype": "text/x-python",
   "name": "python",
   "nbconvert_exporter": "python",
   "pygments_lexer": "ipython3",
   "version": "3.11.4"
  },
  "orig_nbformat": 4
 },
 "nbformat": 4,
 "nbformat_minor": 2
}
