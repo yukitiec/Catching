{
 "cells": [
  {
   "cell_type": "code",
   "execution_count": 1,
   "metadata": {},
   "outputs": [
    {
     "name": "stderr",
     "output_type": "stream",
     "text": [
      "c:\\Users\\kawaw\\anaconda3\\envs\\kawawaki\\Lib\\site-packages\\numpy\\_distributor_init.py:30: UserWarning: loaded more than 1 DLL from .libs:\n",
      "c:\\Users\\kawaw\\anaconda3\\envs\\kawawaki\\Lib\\site-packages\\numpy\\.libs\\libopenblas.FB5AE2TYXYH2IJRDKGDGQ3XBKLKTF43H.gfortran-win_amd64.dll\n",
      "c:\\Users\\kawaw\\anaconda3\\envs\\kawawaki\\Lib\\site-packages\\numpy\\.libs\\libopenblas64__v0.3.23-gcc_10_3_0.dll\n",
      "  warnings.warn(\"loaded more than 1 DLL from .libs:\"\n"
     ]
    }
   ],
   "source": [
    "#import function\n",
    "import stereo2\n",
    "#import basic module\n",
    "import os\n",
    "import time\n",
    "from ximea import xiapi\n",
    "import cv2\n",
    "import time\n",
    "import numpy as np\n",
    "import pandas as pd\n",
    "from scipy import linalg"
   ]
  },
  {
   "cell_type": "markdown",
   "metadata": {},
   "source": [
    "# Calibration"
   ]
  },
  {
   "cell_type": "code",
   "execution_count": null,
   "metadata": {},
   "outputs": [
    {
     "name": "stdout",
     "output_type": "stream",
     "text": [
      "number of images in Left :: 490, Right :: 490\n"
     ]
    }
   ],
   "source": [
    "SRC = r'C:\\Users\\kawaw\\utilities\\calibration\\20231208\\640' #320_320\n",
    "leftSrc = os.path.join(SRC,\"left\")\n",
    "numLeft = len([f for f in os.listdir(leftSrc) if os.path.isfile(os.path.join(leftSrc, f))])\n",
    "rightSrc = os.path.join(SRC,\"right\")\n",
    "numRight = len([f for f in os.listdir(rightSrc) if os.path.isfile(os.path.join(rightSrc, f))])\n",
    "print(f\"number of images in Left :: {numLeft}, Right :: {numRight}\") \n",
    "if (numLeft == numRight):\n",
    "    numPhoto = numLeft-1"
   ]
  },
  {
   "cell_type": "code",
   "execution_count": 84,
   "metadata": {},
   "outputs": [
    {
     "name": "stdout",
     "output_type": "stream",
     "text": [
      "left/100.png right/100.png\n"
     ]
    }
   ],
   "source": [
    "import stereo2\n",
    "\n",
    "SRC = r'C:\\Users\\kawaw\\utilities\\calibration\\20231208\\640' #320_320\n",
    "BASELINE = 280\n",
    "CHECKERBOARD = (5,3)\n",
    "CHECKERSIZE = 20 #[mm]\n",
    "CRITERIA = (cv2.TERM_CRITERIA_EPS + cv2.TERM_CRITERIA_MAX_ITER, 30, 0.01)\n",
    "start = 1\n",
    "end = 150\n",
    "SAVEFile=r\"C:\\Users\\kawaw\\utilities\\calibration\\20231208\\calibration_640.csv\"\n",
    "#calibration = stereo.StereoVision(baseline=BASELINE,checker_board=CHECKERBOARD,check_size=CHECKERSIZE,criteria=CRITERIA,src=SRC)\n",
    "calibration = stereo2.StereoVision(baseline=BASELINE,checker_board=CHECKERBOARD,check_size=CHECKERSIZE,start=start,end=end,criteria=CRITERIA,src=SRC,savePath=SAVEFile)"
   ]
  },
  {
   "cell_type": "markdown",
   "metadata": {},
   "source": [
    "## Check calbration result"
   ]
  },
  {
   "cell_type": "code",
   "execution_count": null,
   "metadata": {},
   "outputs": [],
   "source": [
    "def _make_homogeneous_rep_matrix(R, t):\n",
    "    P = np.zeros((4,4))\n",
    "    P[:3,:3] = R\n",
    "    P[:3, 3] = t.reshape(3)\n",
    "    P[3,3] = 1\n",
    "    return P\n",
    "\n",
    "def get_projection_matrix(cmtx, R, T):\n",
    "    P = cmtx @ _make_homogeneous_rep_matrix(R, T)[:3,:]\n",
    "    return P\n",
    "\n",
    "# After calibrating, we can see shifted coordinate axes in the video feeds directly\n",
    "def check_calibration(camera0_name, camera0_data, camera1_name, camera1_data, _zshift = 50.):\n",
    "    \n",
    "    cmtx0 = np.array(camera0_data[0])\n",
    "    dist0 = np.array(camera0_data[1])\n",
    "    R0 = np.array(camera0_data[2])\n",
    "    T0 = np.array(camera0_data[3])\n",
    "    cmtx1 = np.array(camera1_data[0])\n",
    "    dist1 = np.array(camera1_data[1])\n",
    "    R1 = np.array(camera1_data[2])\n",
    "    T1 = np.array(camera1_data[3])\n",
    "\n",
    "    P0 = get_projection_matrix(cmtx0, R0, T0)\n",
    "    P1 = get_projection_matrix(cmtx1, R1, T1)\n",
    "\n",
    "    #define coordinate axes in 3D space. These are just the usual coorindate vectors\n",
    "    coordinate_points = np.array([[0.,0.,0.],\n",
    "                                  [1.,0.,0.],\n",
    "                                  [0.,1.,0.],\n",
    "                                  [0.,0.,1.]])\n",
    "    z_shift = np.array([0.,0.,_zshift]).reshape((1, 3))\n",
    "    #increase the size of the coorindate axes and shift in the z direction\n",
    "    draw_axes_points = 5 * coordinate_points + z_shift\n",
    "\n",
    "    #project 3D points to each camera view manually. This can also be done using cv.projectPoints()\n",
    "    #Note that this uses homogenous coordinate formulation\n",
    "    pixel_points_camera0 = []\n",
    "    pixel_points_camera1 = []\n",
    "    for _p in draw_axes_points:\n",
    "        X = np.array([_p[0], _p[1], _p[2], 1.])\n",
    "        \n",
    "        #project to camera0\n",
    "        uv = P0 @ X\n",
    "        uv = np.array([uv[0], uv[1]])/uv[2]\n",
    "        pixel_points_camera0.append(uv)\n",
    "\n",
    "        #project to camera1\n",
    "        uv = P1 @ X\n",
    "        uv = np.array([uv[0], uv[1]])/uv[2]\n",
    "        pixel_points_camera1.append(uv)\n",
    "\n",
    "    #these contain the pixel coorindates in each camera view as: (pxl_x, pxl_y)\n",
    "    pixel_points_camera0 = np.array(pixel_points_camera0)\n",
    "    pixel_points_camera1 = np.array(pixel_points_camera1)\n",
    "\n",
    "    #read an image\n",
    "    frame0 = cv2.imread()\n",
    "    frame1 = cv2.imread()\n",
    "    #follow RGB colors to indicate XYZ axes respectively\n",
    "    colors = [(0,0,255), (0,255,0), (255,0,0)]\n",
    "    #draw projections to camera0\n",
    "    origin = tuple(pixel_points_camera0[0].astype(np.int32))\n",
    "    for col, _p in zip(colors, pixel_points_camera0[1:]):\n",
    "        _p = tuple(_p.astype(np.int32))\n",
    "        cv2.line(frame0, origin, _p, col, 2)\n",
    "    \n",
    "    #draw projections to camera1\n",
    "    origin = tuple(pixel_points_camera1[0].astype(np.int32))\n",
    "    for col, _p in zip(colors, pixel_points_camera1[1:]):\n",
    "        _p = tuple(_p.astype(np.int32))\n",
    "        cv2.line(frame1, origin, _p, col, 2)\n",
    "\n",
    "    cv2.imshow('frame0', frame0)\n",
    "    cv2.imshow('frame1', frame1)\n",
    "\n",
    "    k = cv2.waitKey(1)\n",
    "    if k == 27: break\n",
    "\n",
    "    cv2.destroyAllWindows()"
   ]
  },
  {
   "cell_type": "markdown",
   "metadata": {},
   "source": [
    "# Undistort and Rectify Img"
   ]
  },
  {
   "cell_type": "code",
   "execution_count": null,
   "metadata": {},
   "outputs": [],
   "source": [
    "file_path = r\"C:\\Users\\kawaw\\utilities\\calibration\\20231206\\calibration2_1.csv\n",
    "df = pd.read_csv(filepath_or_buffer=file_path)\n",
    "data = df.values"
   ]
  },
  {
   "cell_type": "markdown",
   "metadata": {},
   "source": [
    "### binning version - 320*320"
   ]
  },
  {
   "cell_type": "code",
   "execution_count": 69,
   "metadata": {},
   "outputs": [],
   "source": [
    "K_left = np.array([[224.11,0,158.4],[0,224.9,157.8],[0,0,1]])\n",
    "K_right=np.array([[203.33,0,151.24],[0,203.7,160.53],[0,0,1]])\n",
    "dist_left=np.array([[ 0.02604253,0.31992718,0.01163051,0.0073119,-0.34629194]])\n",
    "dist_right=np.array([[ 0.01692046,0.11865126,-0.02828269,-0.00542733,0.02011916]])\n",
    "R_left=np.array([[ 0.94624134,-0.0155408,0.32308793],[0.00158277,0.99905566,0.0434199],[-0.32345761,-0.04057433,0.94537236]])\n",
    "R_right = np.array([[ 0.95906212,-0.01217675,0.28293388],[0.02433609,0.99892313,-0.03950107],[-0.28214821,0.04476949,0.95832567]])\n",
    "P_left = np.array([[214.34629591,0,157.30054903,0],[0,214.34629591,166.83575249,0],[0,0,1,0]])\n",
    "P_right = np.array([[214.34629591,0,157.30054903,0],[0,214.34629591,166.83575249,0],[0,0,1,0]])"
   ]
  },
  {
   "cell_type": "markdown",
   "metadata": {},
   "source": [
    "### no binning version - 640*640"
   ]
  },
  {
   "cell_type": "code",
   "execution_count": null,
   "metadata": {},
   "outputs": [],
   "source": [
    "K_left = np.array([[497.245,0,318.2],[0,496.776,311.9],[0, 0,1]])\n",
    "K_right=np.array([[404.56,0,294.7],[0,403.9,335.9],[0,0,1]])\n",
    "dist_left=np.array([[0.15614291,-0.18987401,0.01960631,0.00801559,0.61191973]])\n",
    "dist_right=np.array([[0.05261494,-0.04714887,-0.00117312,-0.00971771,0.25390256]])\n",
    "R_left=np.array([[0.79454032,-0.00489242,0.60719168],[-0.00802342, 0.99979565,0.01855486],[-0.60715838,-0.01961434,0.79433871]])\n",
    "R_right = np.array([[0.85943111,0.0193705,0.51088448],[-0.00869122,0.99969113,-0.02328317],[-0.51117769,0.01557007,0.85933401]])\n",
    "P_left = np.array()\n",
    "P_right = np.array()"
   ]
  },
  {
   "cell_type": "code",
   "execution_count": 70,
   "metadata": {},
   "outputs": [],
   "source": [
    "\"\"\"\n",
    "K_left = calibration.K_left #camera matrix\n",
    "K_right = calibration.K_right #camera matrix\n",
    "dist_left = calibration.dist_left #distortion coefficients\n",
    "dist_right = calibration.dist_right #distortion coefficients\n",
    "\"\"\"\n",
    "\n",
    "\n",
    "def undistort(img,K,dist,R,P,saveDir,pos,save=False) -> list:\n",
    "    \"\"\"undistort images\n",
    "\n",
    "    Return:\n",
    "      (list) : undistorted image\n",
    "    \"\"\"\n",
    "    #print(\"--- before undistored ---\")\n",
    "    w,h = img.shape[:2]\n",
    "    #print(\"before undisotrt\",(w,h))\n",
    "\n",
    "    #Refining the camera matrix using parameters obtained by calibration\n",
    "    #mtx:camera intrinsic matrix, dist:distortionCoefficients, (w,h):original image shape\n",
    "    #1:alpha,0 (when all the pixels in the undistorted image are valid) and 1 (when all the source image pixels are retained in the undistorted image)\n",
    "    #(w,h) : undistortde image shape\n",
    "\n",
    "    #newcameramtx, roi = cv2.getOptimalNewCameraMatrix(K, dist, (w,h), 1, (w,h))\n",
    "    #parallization and undistortion map\n",
    "    map_x, map_y = cv2.initUndistortRectifyMap(K, dist, R, P, (w,h), cv2.CV_32FC1)\n",
    "    if save:\n",
    "      data = {\"undistortion map\":[\"map_x\",\"map_y\"],\n",
    "              \"map\":[map_x,map_y]\n",
    "              }\n",
    "      df = pd.DataFrame(data)\n",
    "      saveName =os.path.join(saveDir,\"RectificationMap_{pos}.csv\".format(pos=pos))\n",
    "      df.to_csv(saveName,index=False)\n",
    "    img_rectified = cv2.remap(img, map_x, map_y, cv2.INTER_LINEAR)\n",
    "    return img_rectified\n",
    "\n",
    "def convert_img(src,K,dist,R,P,saveDir,pos):\n",
    "   #save rectification map?\n",
    "   save = True\n",
    "   #prepare save directory\n",
    "   img_save_dir = os.path.join(src,\"undistort\")\n",
    "   if not os.path.exists(img_save_dir):\n",
    "      os.makedirs(img_save_dir)\n",
    "   #count number of file\n",
    "   numFile = len([f for f in os.listdir(src) if os.path.isfile(os.path.join(src, f))])\n",
    "   for i in range(16, numFile+1):\n",
    "        filename = '{root}/{idx}.png'.format(root=src, idx=i)\n",
    "        img = cv2.imread(os.path.join(src,f\"{i}.png\"))\n",
    "        #gray = cv2.cvtColor(img,cv2.COLOR_RGB2GRAY)\n",
    "        gray_undistort = undistort(img,K=K,dist=dist,R=R,P=P,saveDir=saveDir,pos=pos,save=save)\n",
    "        if i%50==0:\n",
    "          print(i)\n",
    "          #print(gray_undistort.shape)\n",
    "          cv2.imwrite(os.path.join(img_save_dir,f\"{i:03d}.png\"),gray_undistort)\n",
    "        if save:\n",
    "          save = False"
   ]
  },
  {
   "cell_type": "code",
   "execution_count": null,
   "metadata": {},
   "outputs": [],
   "source": [
    "#SRC = r'C:\\Users\\kawaw\\utilities\\calibration\\20231010' #320_320\n",
    "SRC = r'C:\\Users\\kawaw\\utilities\\calibration\\20231208\\binning_320'\n",
    "leftSrc = os.path.join(SRC,\"left\")\n",
    "rightSrc = os.path.join(SRC,\"right\")\n",
    "saveDir =r\"C:\\Users\\kawaw\\utilities\\calibration\\20231208\\binning_320\"\n",
    "convert_img(src=leftSrc,K=K_left,dist=dist_left,R=R_left,P=P_left,saveDir = saveDir,pos=\"left\")\n",
    "convert_img(src=rightSrc,K=K_right,dist=dist_right,R=R_left,P=P_left,saveDir = saveDir,pos=\"right\")"
   ]
  },
  {
   "cell_type": "markdown",
   "metadata": {},
   "source": [
    "### Check y value in concatenate rectified images"
   ]
  },
  {
   "cell_type": "code",
   "execution_count": 14,
   "metadata": {},
   "outputs": [],
   "source": [
    "def undistort(img,K,dist,R,P,saveDir,save=False) -> list:\n",
    "    \"\"\"undistort images\n",
    "\n",
    "    Return:\n",
    "      (list) : undistorted image\n",
    "    \"\"\"\n",
    "    #print(\"--- before undistored ---\")\n",
    "    w,h = img.shape[:2]\n",
    "    #print(\"before undisotrt\",(w,h))\n",
    "\n",
    "    #Refining the camera matrix using parameters obtained by calibration\n",
    "    #mtx:camera intrinsic matrix, dist:distortionCoefficients, (w,h):original image shape\n",
    "    #1:alpha,0 (when all the pixels in the undistorted image are valid) and 1 (when all the source image pixels are retained in the undistorted image)\n",
    "    #(w,h) : undistortde image shape\n",
    "\n",
    "    #newcameramtx, roi = cv2.getOptimalNewCameraMatrix(K, dist, (w,h), 1, (w,h))\n",
    "    #parallization and undistortion map\n",
    "    map_x, map_y = cv2.initUndistortRectifyMap(K, dist, R, P, (w,h), cv2.CV_32FC1)\n",
    "    if save:\n",
    "      data = {\"undistortion map\":[\"map_x\",\"map_y\"],\n",
    "              \"map\":[map_x,map_y]\n",
    "              }\n",
    "      df = pd.DataFrame(data)\n",
    "      #saveName =os.path.join(saveDir,\"RectificationMap_{pos}.csv\".format(pos=pos))\n",
    "      #df.to_csv(saveName,index=False)\n",
    "    img_rectified = cv2.remap(img, map_x, map_y, cv2.INTER_LINEAR)\n",
    "    return img_rectified\n",
    "\n",
    "def concatRectifiedImgs(src,K_left,dist_left,R_left,P_left,K_right,dist_right,R_right,P_right,saveDir):\n",
    "   #save rectification map?\n",
    "   save = True\n",
    "   if not os.path.exists(saveDir):\n",
    "      os.makedirs(saveDir)\n",
    "   #count number of file\n",
    "   left_src = os.path.join(src,\"left\")\n",
    "   right_src = os.path.join(src,\"right\")\n",
    "   numFile_left = len([f for f in os.listdir(left_src) if os.path.isfile(os.path.join(left_src, f))])\n",
    "   numFile_right = len([f for f in os.listdir(right_src) if os.path.isfile(os.path.join(right_src, f))])\n",
    "   numFile = min(numFile_left,numFile_right)\n",
    "   for i in range(1, numFile+1):\n",
    "        filename_left = os.path.join(left_src,f'{i}.png')\n",
    "        filename_right = os.path.join(right_src,f'{i}.png')\n",
    "        img_left = cv2.imread(filename_left)\n",
    "        img_right = cv2.imread(filename_right)\n",
    "        #gray = cv2.cvtColor(img,cv2.COLOR_RGB2GRAY)\n",
    "        gray_undistort_left = undistort(img=img_left,K=K_left,dist=dist_left,R=R_left,P=P_left,saveDir=saveDir,save=save)\n",
    "        gray_undistort_right = undistort(img=img_right,K=K_right,dist=dist_right,R=R_right,P=P_right,saveDir=saveDir,save=save)\n",
    "        if i%50==0:\n",
    "          print(i)\n",
    "          #print(gray_undistort_right.shape)\n",
    "          (h,w,c) = gray_undistort_right.shape\n",
    "          gray_undistort = np.concatenate((gray_undistort_left,gray_undistort_right),axis=1)\n",
    "          print(gray_undistort.shape)\n",
    "          #print(gray_undistort.shape)\n",
    "          cv2.imwrite(os.path.join(saveDir,f\"concat_{i:03d}.png\"),gray_undistort)\n",
    "        if save:\n",
    "          save = False"
   ]
  },
  {
   "cell_type": "code",
   "execution_count": null,
   "metadata": {},
   "outputs": [],
   "source": [
    "rootDir = r\"C:\\Users\\kawaw\\utilities\\calibration\\20231208\\binning_320\"\n",
    "concatRectifiedImgs(src=rootDir,K_left=K_left,dist_left=dist_left,R_left=R_left,P_left=P_left,K_right=K_right,dist_right=dist_right,R_right=R_right,P_right=P_right,saveDir=rootDir)"
   ]
  },
  {
   "cell_type": "markdown",
   "metadata": {},
   "source": [
    "## Evaluation for 3d positioning"
   ]
  },
  {
   "cell_type": "markdown",
   "metadata": {},
   "source": [
    "### Method1 :: DLT"
   ]
  },
  {
   "cell_type": "code",
   "execution_count": 2,
   "metadata": {},
   "outputs": [],
   "source": [
    "def _make_homogeneous_rep_matrix(R, t):\n",
    "    P = np.zeros((4,4))\n",
    "    P[:3,:3] = R\n",
    "    P[:3, 3] = t.reshape(3)\n",
    "    P[3,3] = 1\n",
    "    return P\n",
    "\n",
    "#direct linear transform\n",
    "def DLT(P1, P2, point1, point2):\n",
    "\n",
    "    A = [point1[1]*P1[2,:] - P1[1,:],\n",
    "         P1[0,:] - point1[0]*P1[2,:],\n",
    "         point2[1]*P2[2,:] - P2[1,:],\n",
    "         P2[0,:] - point2[0]*P2[2,:]\n",
    "        ]\n",
    "    A = np.array(A).reshape((4,4))\n",
    "    #print('A: ')\n",
    "    #print(A)\n",
    "\n",
    "    B = A.transpose() @ A\n",
    "    U, s, Vh = linalg.svd(B, full_matrices = False)\n",
    "\n",
    "    #print('Triangulated point: ')\n",
    "    #print(Vh[3,0:3]/Vh[3,3])\n",
    "    return Vh[3,0:3]/Vh[3,3]\n",
    "\n",
    "def read_camera_parameters(camera_id):\n",
    "\n",
    "    inf = open('camera_parameters/c' + str(camera_id) + '.dat', 'r')\n",
    "\n",
    "    cmtx = []\n",
    "    dist = []\n",
    "\n",
    "    line = inf.readline()\n",
    "    for _ in range(3):\n",
    "        line = inf.readline().split()\n",
    "        line = [float(en) for en in line]\n",
    "        cmtx.append(line)\n",
    "\n",
    "    line = inf.readline()\n",
    "    line = inf.readline().split()\n",
    "    line = [float(en) for en in line]\n",
    "    dist.append(line)\n",
    "\n",
    "    return np.array(cmtx), np.array(dist)\n",
    "\n",
    "def read_rotation_translation(camera_id, savefolder = 'camera_parameters/'):\n",
    "\n",
    "    inf = open(savefolder + 'rot_trans_c'+ str(camera_id) + '.dat', 'r')\n",
    "\n",
    "    inf.readline()\n",
    "    rot = []\n",
    "    trans = []\n",
    "    for _ in range(3):\n",
    "        line = inf.readline().split()\n",
    "        line = [float(en) for en in line]\n",
    "        rot.append(line) #(3,3)\n",
    "\n",
    "    inf.readline()\n",
    "    for _ in range(3):\n",
    "        line = inf.readline().split()\n",
    "        line = [float(en) for en in line]\n",
    "        trans.append(line) #(3,1)\n",
    "\n",
    "    inf.close()\n",
    "    return np.array(rot), np.array(trans)\n",
    "\n",
    "def _convert_to_homogeneous(pts):\n",
    "    pts = np.array(pts)\n",
    "    if len(pts.shape) > 1:\n",
    "        w = np.ones((pts.shape[0], 1))\n",
    "        return np.concatenate([pts, w], axis = 1)\n",
    "    else:\n",
    "        return np.concatenate([pts, [1]], axis = 0)\n",
    "\n",
    "def get_projection_matrix(param):\n",
    "\n",
    "    #read camera parameters\n",
    "    #cmtx, dist = read_camera_parameters(camera_id) #camera matrix, distortion matrix\n",
    "    #rvec, tvec = read_rotation_translation(camera_id) #rotation matrix, translation vectors\n",
    "    cmtx = param[0]\n",
    "    dist = param[1]\n",
    "    rvec = param[2]\n",
    "    tvec = param[3]\n",
    "    #calculate projection matrix\n",
    "    P = cmtx @ _make_homogeneous_rep_matrix(rvec, tvec)[:3,:]\n",
    "    return P"
   ]
  },
  {
   "cell_type": "markdown",
   "metadata": {},
   "source": [
    "#### constant setting"
   ]
  },
  {
   "cell_type": "code",
   "execution_count": 3,
   "metadata": {},
   "outputs": [],
   "source": [
    "K_left = np.array([[204.90,0,157.582],[0,204.87,151.823],[0,0,1]])\n",
    "K_right = np.array([[194.7,0,142.59],[0,194.23,169.12],[0,0,1]])\n",
    "dist_left = np.array([[0.06655138,0.02478071,0.0081680,0.00923052,0.16050339]])\n",
    "dist_right = np.array([[ 0.0518121,0.011056,0.00128139,-0.01775047,0.02560293]])\n",
    "R0 = np.eye(3, dtype=np.float32)\n",
    "T0 = np.array([0., 0., 0.]).reshape((3, 1))\n",
    "R1 = np.array([[0.99514788,0.00222765,0.09836528],[-0.00345844,0.99991783,0.01234366],[-0.0983297,-0.01262396,0.99507382]])\n",
    "T1 = np.array([[-284.08966214],[4.48236997],[-28.70484255]])\n",
    "cam_left_param = [K_left,dist_left,R0,T0]\n",
    "cam_right_param = [K_right,dist_right,R1,T1]\n",
    "#file  setting\n",
    "DEPTH = 100\n",
    "numIndex = 20\n",
    "rootDir = r\"C:\\Users\\kawaw\\utilities\\calibration\\20231208\\binning_320\\verification\""
   ]
  },
  {
   "cell_type": "markdown",
   "metadata": {},
   "source": [
    "#### measure 3d position"
   ]
  },
  {
   "cell_type": "code",
   "execution_count": 4,
   "metadata": {},
   "outputs": [
    {
     "name": "stdout",
     "output_type": "stream",
     "text": [
      "[[204.9     0.    157.582   0.   ]\n",
      " [  0.    204.87  151.823   0.   ]\n",
      " [  0.      0.      1.      0.   ]]\n",
      "[[ 1.79734460e+02 -1.36632700e+00  1.61039296e+02 -5.94052807e+04]\n",
      " [-1.73012517e+01  1.92079076e+02  1.70684394e+02 -3.98395225e+03]\n",
      " [-9.83297000e-02 -1.26239600e-02  9.95073820e-01 -2.87048425e+01]]\n",
      "C:\\Users\\kawaw\\utilities\\calibration\\20231208\\binning_320\\verification\\100cm\\left\n",
      "select roi\n",
      "(157, 129, 37, 52)\n"
     ]
    },
    {
     "ename": "",
     "evalue": "",
     "output_type": "error",
     "traceback": [
      "\u001b[1;31mThe Kernel crashed while executing code in the the current cell or a previous cell. Please review the code in the cell(s) to identify a possible cause of the failure. Click <a href='https://aka.ms/vscodeJupyterKernelCrash'>here</a> for more info. View Jupyter <a href='command:jupyter.viewOutput'>log</a> for further details."
     ]
    }
   ],
   "source": [
    "#get projection matrix\n",
    "p_left = get_projection_matrix(cam_left_param)\n",
    "p_right = get_projection_matrix(cam_right_param)\n",
    "print(p_left)\n",
    "print(p_right)\n",
    "#directory path\n",
    "left = \"{dist}cm\".format(dist=DEPTH)\n",
    "right = \"{dist}cm\".format(dist=DEPTH)\n",
    "leftDir = os.path.join(rootDir,left,\"left\")\n",
    "rightDir = os.path.join(rootDir,right,\"right\")\n",
    "print(leftDir)\n",
    "img_left = cv2.imread(os.path.join(leftDir,f\"{numIndex}.png\"))\n",
    "#img_left = undistort(img=img_left,K=K_left,dist=dist_left,R=R_left,P=P_left)\n",
    "img_right =cv2.imread(os.path.join(rightDir,f\"{numIndex}.png\"))\n",
    "#img_right = undistort(img=img_right,K=K_right,dist=dist_right,R=R_right,P=P_right)\n",
    "#select roi\n",
    "# Call selectROI on the displayed image\n",
    "print(\"select roi\")\n",
    "roi_left = cv2.selectROI('Select ROI left', img_left, fromCenter=False, showCrosshair=True)\n",
    "print(roi_left)\n",
    "roi_right = cv2.selectROI('Select ROI right', img_right, fromCenter=False, showCrosshair=True)\n",
    "print(roi_right)\n",
    "xl = roi_left[0] + roi_left[2]/2\n",
    "yl = roi_left[1] + roi_left[3]/2\n",
    "xr = roi_right[0] + roi_right[2]/2\n",
    "yr = roi_right[1] + roi_right[3]/2\n",
    "data_3d = DLT(point1=[xl,yl],point2=[xr,yr],P1=p_left,P2=p_right)"
   ]
  },
  {
   "cell_type": "markdown",
   "metadata": {},
   "source": [
    "### Method2 : stereo triangulation"
   ]
  },
  {
   "cell_type": "code",
   "execution_count": 72,
   "metadata": {},
   "outputs": [],
   "source": [
    "BASELINE=280\n",
    "\n",
    "def reconstruction(point1:tuple,point2:tuple,CameraMatrix:list,baseline=BASELINE)->list:\n",
    "    \"\"\"calculate 3d position\n",
    "    Args:\n",
    "      point1(list):2d position of left camera [t,x,y]\n",
    "      point2(list):2d position of right camera [t,x,y]\n",
    "    Return:\n",
    "      (list):3d position\n",
    "    \"\"\"\n",
    "    f_x = CameraMatrix[0][0]\n",
    "    f_y = CameraMatrix[1][1]\n",
    "    f_skew = CameraMatrix[0][1]\n",
    "    o_x = CameraMatrix[0][2]\n",
    "    o_y = CameraMatrix[1][2]\n",
    "    (x_1,y_1) = point1\n",
    "    (x_2,y_2) = point2\n",
    "    disparity = x_1 - x_2\n",
    "    X = round((baseline/disparity)*(x_1 - o_x - (f_skew/f_y)*(y_1 - o_y)),2)\n",
    "    Y = round(baseline * (f_x/f_y) * (y_1 - o_y)/disparity,2)\n",
    "    Z = round((f_x * baseline)/disparity,2)\n",
    "    return [X,Y,Z]\n",
    "\n",
    "def reconstruction2(point1:tuple,point2:tuple,CameraMatrix1:list,CameraMatrix2:list,baseline=BASELINE)->list:\n",
    "    \"\"\"calculate 3d position\n",
    "    Args:\n",
    "      point1(list):2d position of left camera [t,x,y]\n",
    "      point2(list):2d position of right camera [t,x,y]\n",
    "    Return:\n",
    "      (list):3d position\n",
    "    \"\"\"\n",
    "    f_x = (CameraMatrix1[0][0]+CameraMatrix2[0][0])/2\n",
    "    f_y = (CameraMatrix1[1][1]+CameraMatrix2[1][1])/2\n",
    "    f_skew = (CameraMatrix1[0][1]+CameraMatrix2[0][1])/2\n",
    "    o_x = (CameraMatrix1[0][2]+CameraMatrix2[0][2])/2\n",
    "    o_y = (CameraMatrix1[1][2]+CameraMatrix2[1][2])/2\n",
    "    (x_1,y_1) = point1\n",
    "    (x_2,y_2) = point2\n",
    "    disparity = x_1 - x_2\n",
    "    X = round((baseline/disparity)*(x_1 - o_x - (f_skew/f_y)*(y_1 - o_y)),2)\n",
    "    Y = round(baseline * (f_x/f_y) * (y_1 - o_y)/disparity,2)\n",
    "    Z = round((f_x * baseline)/disparity,2)\n",
    "    return [X,Y,Z]\n",
    "\n",
    "def undistort(img,K,dist,R,P) -> list:\n",
    "    \"\"\"undistort images\n",
    "\n",
    "    Return:\n",
    "      (list) : undistorted image\n",
    "    \"\"\"\n",
    "    #print(\"--- before undistored ---\")\n",
    "    w,h = img.shape[:2]\n",
    "    #print(\"before undisotrt\",(w,h))\n",
    "\n",
    "    #Refining the camera matrix using parameters obtained by calibration\n",
    "    #mtx:camera intrinsic matrix, dist:distortionCoefficients, (w,h):original image shape\n",
    "    #1:alpha,0 (when all the pixels in the undistorted image are valid) and 1 (when all the source image pixels are retained in the undistorted image)\n",
    "    #(w,h) : undistortde image shape\n",
    "\n",
    "    #newcameramtx, roi = cv2.getOptimalNewCameraMatrix(K, dist, (w,h), 1, (w,h))\n",
    "    #parallization and undistortion map\n",
    "    map_x, map_y = cv2.initUndistortRectifyMap(K, dist, R, P, (w,h), cv2.CV_32FC1)\n",
    "    img_rectified = cv2.remap(img, map_x, map_y, cv2.INTER_LINEAR)\n",
    "    return img_rectified"
   ]
  },
  {
   "cell_type": "markdown",
   "metadata": {},
   "source": [
    "### constant setting"
   ]
  },
  {
   "cell_type": "code",
   "execution_count": 80,
   "metadata": {},
   "outputs": [],
   "source": [
    "DEPTH = 400\n",
    "numIndex = 20\n",
    "BASELINE=280\n",
    "rootDir = r\"C:\\Users\\kawaw\\utilities\\calibration\\20231208\\binning_320\\verification\""
   ]
  },
  {
   "cell_type": "code",
   "execution_count": 81,
   "metadata": {},
   "outputs": [
    {
     "name": "stdout",
     "output_type": "stream",
     "text": [
      "C:\\Users\\kawaw\\utilities\\calibration\\20231208\\binning_320\\verification\\400cm\\left\n",
      "select roi\n",
      "(225, 156, 12, 21)\n",
      "(213, 154, 13, 21)\n",
      "[1794.42, -8.17, 5218.87]\n"
     ]
    }
   ],
   "source": [
    "#directory path\n",
    "left = \"{dist}cm\".format(dist=DEPTH)\n",
    "right = \"{dist}cm\".format(dist=DEPTH)\n",
    "leftDir = os.path.join(rootDir,left,\"left\")\n",
    "rightDir = os.path.join(rootDir,right,\"right\")\n",
    "print(leftDir)\n",
    "img_left = cv2.imread(os.path.join(leftDir,f\"{numIndex}.png\"))\n",
    "img_left = undistort(img=img_left,K=K_left,dist=dist_left,R=R_left,P=P_left)\n",
    "img_right =cv2.imread(os.path.join(rightDir,f\"{numIndex}.png\"))\n",
    "img_right = undistort(img=img_right,K=K_right,dist=dist_right,R=R_right,P=P_right)\n",
    "#select roi\n",
    "# Call selectROI on the displayed image\n",
    "print(\"select roi\")\n",
    "roi_left = cv2.selectROI('Select ROI left', img_left, fromCenter=False, showCrosshair=True)\n",
    "print(roi_left)\n",
    "roi_right = cv2.selectROI('Select ROI right', img_right, fromCenter=False, showCrosshair=True)\n",
    "print(roi_right)\n",
    "xl = roi_left[0] + roi_left[2]/2\n",
    "yl = roi_left[1] + roi_left[3]/2\n",
    "xr = roi_right[0] + roi_right[2]/2\n",
    "yr = roi_right[1] + roi_right[3]/2\n",
    "points = reconstruction((xl,yl),(xr,yr),P_left[:3,:3],baseline=BASELINE)\n",
    "#points = reconstruction2((xl,yl),(xr,yr),K_left,K_right,baseline=BASELINE)\n",
    "print(points)"
   ]
  },
  {
   "cell_type": "markdown",
   "metadata": {},
   "source": [
    "## K_left\n",
    "- 50cm : 72.8cm\n",
    "- 100cm : 120.6cm,124.1cm\n",
    "- 150cm : 191.9cm.178.43cm.186.3cm\n",
    "- 200cm : 226.4cm,239.2cm\n",
    "- 250cm : 288.3cm,281.7cn\n",
    "- 300cm : 396.2,\n",
    "- 400cm : 437.1\n",
    "## (K_left+K_right)/2\n",
    "- 100cm : 86.897 ,88.121\n",
    "- 200cm : 125.132,123.893\n",
    "- 300cm : 150.763\n",
    "- 400cm : 181.51\n"
   ]
  },
  {
   "cell_type": "markdown",
   "metadata": {},
   "source": [
    "# Draw 3D axis"
   ]
  },
  {
   "cell_type": "code",
   "execution_count": 129,
   "metadata": {},
   "outputs": [],
   "source": [
    "def draw(img, corners, imgpts,boolReverse=False):\n",
    "    corner = tuple(int(i) for i in corners[0].ravel())\n",
    "    #print(\"axis points:\")\n",
    "    img = cv2.line(img, corner, tuple(int(i) for i in imgpts[0].ravel()), (255,0,0), 3)\n",
    "    cv2.circle(img,tuple(int(i) for i in imgpts[0].ravel()),radius=7,color=(255,0,0),thickness=1)\n",
    "    img = cv2.line(img, corner, tuple(int(i) for i in imgpts[1].ravel()), (0,255,0), 3)\n",
    "    cv2.circle(img,tuple(int(i) for i in imgpts[1].ravel()),radius=7,color=(0,255,0),thickness=1)\n",
    "    #img = cv2.line(img, corner, tuple(int(i) for i in imgpts[2].ravel()), (0,0,255), 3)\n",
    "    #cv2.circle(img,tuple(int(i) for i in imgpts[2].ravel()),radius=7,color=(0,0,255),thickness=1)\n",
    "    return img\n",
    "\n",
    "def draw2(img, corners, xEnd,yEnd,boolReverse=False):\n",
    "    corner = tuple(int(i) for i in corners[0].ravel())\n",
    "    #print(\"axis points:\")\n",
    "    img = cv2.line(img, corner, tuple(int(i) for i in xEnd), (255,0,0), 3)\n",
    "    cv2.circle(img,tuple(int(i) for i in xEnd),radius=7,color=(255,0,0),thickness=1)\n",
    "    img = cv2.line(img, corner, tuple(int(i) for i in yEnd), (0,255,0), 3)\n",
    "    cv2.circle(img,tuple(int(i) for i in yEnd),radius=7,color=(0,255,0),thickness=1)\n",
    "    #img = cv2.line(img, corner, tuple(int(i) for i in imgpts[2].ravel()), (0,0,255), 3)\n",
    "    #cv2.circle(img,tuple(int(i) for i in imgpts[2].ravel()),radius=7,color=(0,0,255),thickness=1)\n",
    "    return img"
   ]
  },
  {
   "cell_type": "code",
   "execution_count": 132,
   "metadata": {},
   "outputs": [],
   "source": [
    "CHECKERBOARD = (10,7)\n",
    "#SRC = r'C:\\Users\\kawaw\\utilities\\calibration\\20231010' #320_320\n",
    "leftSrc = os.path.join(SRC,\"left/undistort\")\n",
    "rightSrc = os.path.join(SRC,\"right/undistort\")\n",
    "saveDirLeft = os.path.join(leftSrc,\"3dAxis\")\n",
    "if not os.path.exists(saveDirLeft):\n",
    "    os.makedirs(saveDirLeft)\n",
    "saveDirRight = os.path.join(rightSrc,\"3dAxis\")\n",
    "if not os.path.exists(saveDirRight):\n",
    "    os.makedirs(saveDirRight)\n",
    "leftSrc = os.path.join(SRC,\"left\")\n",
    "rightSrc = os.path.join(SRC,\"right\")\n",
    "\n",
    "def drawAxis(cameraMatrix,dist,src,checkerBoard=CHECKERBOARD,saveDir=saveDirLeft,boolReverse=False):\n",
    "    # setting \n",
    "    criteria = (cv2.TERM_CRITERIA_EPS + cv2.TERM_CRITERIA_MAX_ITER, 30, 0.001)\n",
    "    objp = np.zeros((checkerBoard[0]*checkerBoard[1],3), np.float32)\n",
    "    objp[:,:2] = np.mgrid[0:checkerBoard[0],0:checkerBoard[1]].T.reshape(-1,2)\n",
    "\n",
    "    axis = np.float32([[1,0,0], [0,1,0], [0,0,1]]).reshape(-1,3)\n",
    "    #image index\n",
    "    index = int((src.split(\"\\\\\")[-1]).split(\".\")[0])\n",
    "    #print(\"index:\",index)\n",
    "    img = cv2.imread(src)\n",
    "    gray = cv2.cvtColor(img,cv2.COLOR_BGR2GRAY)\n",
    "    ret, corners = cv2.findChessboardCorners(gray, checkerBoard,None)\n",
    "\n",
    "    if ret == True:\n",
    "        print(index)\n",
    "        corners2 = cv2.cornerSubPix(gray,corners,(3,3),(-1,-1),criteria)\n",
    "        if boolReverse:\n",
    "            corners2 = corners2[::-1]\n",
    "        #print(\"corners detected :: \",corners)\n",
    "        for i in range(corners.shape[0]):\n",
    "            cv2.circle(img,(int(corners[i][0][0]),int(corners[i][0][1])),radius=3,color=[3*i,0,0],thickness=-1)\n",
    "\n",
    "        # Find the rotation and translation vectors.\n",
    "        ret,rvecs, tvecs= cv2.solvePnP(objp, corners2, cameraMatrix, dist)\n",
    "\n",
    "        # project 3D points to image plane\n",
    "        imgpts, jac = cv2.projectPoints(axis, rvecs, tvecs, cameraMatrix, dist)\n",
    "        #original points of checker board\n",
    "        original = tuple(i for i in corners2[0].ravel())\n",
    "        yEnd2 = tuple(i for i in corners2[2].ravel())\n",
    "        xEnd2 = tuple(i for i in corners2[2*checkerBoard[0]].ravel())\n",
    "        #x-axis end point\n",
    "        xEnd = tuple(i for i in imgpts[1].ravel())\n",
    "        yEnd = tuple(i for i in imgpts[0].ravel())\n",
    "        zEnd = tuple(i for i in imgpts[2].ravel())\n",
    "        print(f\"original points : {original}, x-end : {xEnd}, y-end : {yEnd}, z-end : {zEnd}\")\n",
    "        #imgpts = imgpts.squeeze()\n",
    "        #print(imgpts)\n",
    "        #print(tuple(int(i) for i in imgpts[0].ravel()))\n",
    "        #draw 3d matrix\n",
    "        #img = draw(img,corners2,imgpts,boolReverse=boolReverse)\n",
    "        img = draw2(img,corners2,xEnd2,yEnd2,boolReverse=boolReverse)\n",
    "        #save image\n",
    "        cv2.imwrite(os.path.join(saveDir,f\"{index:03d}.jpg\"),img)\n",
    "        "
   ]
  },
  {
   "cell_type": "markdown",
   "metadata": {},
   "source": [
    "## each image analysis"
   ]
  },
  {
   "cell_type": "code",
   "execution_count": null,
   "metadata": {},
   "outputs": [],
   "source": [
    "#count number of file\n",
    "numFile = len([f for f in os.listdir(leftSrc) if os.path.isfile(os.path.join(leftSrc, f))])\n",
    "for i in range(1, numFile):\n",
    "    imageLeft = '{root}\\\\{idx}.png'.format(root=leftSrc, idx=i)\n",
    "    imageRight = '{root}\\\\{idx}.png'.format(root=rightSrc, idx=i)\n",
    "    print(\"left\")\n",
    "    drawAxis(cameraMatrix=K_left,dist=dist_left,src=imageLeft,boolReverse=True)\n",
    "    print(\"right\")\n",
    "    drawAxis(cameraMatrix=K_right,dist=dist_right,src=imageRight,saveDir=saveDirRight,boolReverse=True)"
   ]
  },
  {
   "cell_type": "markdown",
   "metadata": {},
   "source": [
    "## Get 3dAxis end poins"
   ]
  },
  {
   "cell_type": "code",
   "execution_count": 134,
   "metadata": {},
   "outputs": [],
   "source": [
    "def getAxis(cameraMatrix,dist,src,checkerBoard=CHECKERBOARD,boolReverse=False) -> tuple:\n",
    "    \"\"\"\n",
    "    Args:\n",
    "        cameraMatrix (np.array): camera matrix\n",
    "        dist (np.array): distortion coefficient\n",
    "        src (char): image path\n",
    "        checkerBoard (tuple): checker board size Defaults to CHECKERBOARD.\n",
    "    Returns:\n",
    "        tuple: (original point, x-end,y-end,z-end)\n",
    "    \"\"\"\n",
    "    # setting \n",
    "    print(src)\n",
    "    criteria = (cv2.TERM_CRITERIA_EPS + cv2.TERM_CRITERIA_MAX_ITER, 30, 0.001)\n",
    "    objp = np.zeros((checkerBoard[0]*checkerBoard[1],3), np.float32)\n",
    "    objp[:,:2] = np.mgrid[0:checkerBoard[0],0:checkerBoard[1]].T.reshape(-1,2)\n",
    "    # 3d axis setting : (x,y,z)\n",
    "    axis = np.float32([[3,0,0], [0,3,0], [0,0,3]]).reshape(-1,3)\n",
    "    #print(\"index:\",index)\n",
    "    img = cv2.imread(src)\n",
    "    gray = cv2.cvtColor(img,cv2.COLOR_BGR2GRAY)\n",
    "    ret, corners = cv2.findChessboardCorners(gray, checkerBoard,None)\n",
    "\n",
    "    if ret == True:\n",
    "        corners2 = cv2.cornerSubPix(gray,corners,(3,3),(-1,-1),criteria)\n",
    "        if boolReverse:\n",
    "            corners2 = corners2[::-1]\n",
    "        # Find the rotation and translation vectors.\n",
    "        ret,rvecs, tvecs= cv2.solvePnP(objp, corners2, cameraMatrix, dist)\n",
    "\n",
    "        # project 3D points to image plane\n",
    "        imgpts, jac = cv2.projectPoints(axis, rvecs, tvecs, cameraMatrix, dist)\n",
    "        #original points of checker board\n",
    "        original = tuple(i for i in corners2[0].ravel())\n",
    "        #x-axis end point\n",
    "        yEnd = tuple(i for i in corners2[2].ravel())\n",
    "        xEnd = tuple(i for i in corners2[2*checkerBoard[0]].ravel())\n",
    "        #xEnd = tuple(i for i in imgpts[1].ravel())\n",
    "        #yEnd = tuple(i for i in imgpts[0].ravel())\n",
    "        #zEnd = tuple(i for i in imgpts[2].ravel())\n",
    "        print(f\"original points : {original}, x-end : {xEnd}, y-end : {yEnd}\")#, z-end : {zEnd}\")\n",
    "        return (original,xEnd,yEnd)"
   ]
  },
  {
   "cell_type": "markdown",
   "metadata": {},
   "source": [
    "### get calibration data"
   ]
  },
  {
   "cell_type": "code",
   "execution_count": 135,
   "metadata": {},
   "outputs": [
    {
     "name": "stdout",
     "output_type": "stream",
     "text": [
      "[['Left'\n",
      "  '[[186.56420351   0.         150.02678932]\\n [  0.         185.76942603 146.73072235]\\n [  0.           0.           1.        ]]'\n",
      "  '[[-0.00075183  0.04564498  0.00151876  0.00125702 -0.02585297]]']\n",
      " ['Right'\n",
      "  '[[182.6898957    0.         153.30521719]\\n [  0.         182.38612385 169.62924344]\\n [  0.           0.           1.        ]]'\n",
      "  '[[ 0.01269781 -0.01140123 -0.0022971  -0.00068694  0.01365329]]']]\n"
     ]
    }
   ],
   "source": [
    "import pandas as pd\n",
    "src=r\"C:\\Users\\kawaw\\utilities\\calibration\\20231010.csv\"\n",
    "df = pd.read_csv(filepath_or_buffer=src)\n",
    "data = df.values\n",
    "print(data)"
   ]
  },
  {
   "cell_type": "code",
   "execution_count": 136,
   "metadata": {},
   "outputs": [],
   "source": [
    "CameraMatrixLeft = [[186.56420351,   0. ,        150.02678932],\n",
    " [  0.         ,185.76942603 ,146.73072235],\n",
    " [  0.          , 0.           ,1.        ]]\n",
    "CameraMatrixRight=[[182.6898957 ,   0.,         153.30521719], \n",
    "                   [  0. ,        182.38612385, 169.62924344],\n",
    "                  [  0.           ,0.           ,1.        ]]\n",
    "cameraMatrix=[]\n",
    "for i in range(len(CameraMatrixLeft)):\n",
    "    temp=[]\n",
    "    for j in range(len(CameraMatrixLeft[i])):\n",
    "        temp.append(round((CameraMatrixLeft[i][j]+CameraMatrixRight[i][j])/2,2))\n",
    "    cameraMatrix.append(temp)\n",
    "        \n",
    "\n",
    "BASELINE=280\n",
    "\n",
    "def reconstruction(point1:tuple,point2:tuple,CameraMatrix:list,baseline=BASELINE)->list:\n",
    "    \"\"\"calculate 3d position\n",
    "    Args:\n",
    "      point1(list):2d position of left camera [t,x,y]\n",
    "      point2(list):2d position of right camera [t,x,y]\n",
    "    Return:\n",
    "      (list):3d position\n",
    "    \"\"\"\n",
    "    f_x = CameraMatrix[0][0]\n",
    "    f_y = CameraMatrix[1][1]\n",
    "    f_skew = CameraMatrix[0][1]\n",
    "    o_x = CameraMatrix[0][2]\n",
    "    o_y = CameraMatrix[1][2]\n",
    "    (x_1,y_1) = point1\n",
    "    (x_2,y_2) = point2\n",
    "    disparity = x_1 - x_2\n",
    "    X = round((baseline/disparity)*(x_1 - o_x - (f_skew/f_y)*(y_1 - o_y)),2)\n",
    "    Y = round(baseline * (f_x/f_y) * (y_1 - o_y)/disparity,2)\n",
    "    Z = round((f_x * baseline)/disparity,2)\n",
    "    return [X,Y,Z]"
   ]
  },
  {
   "cell_type": "markdown",
   "metadata": {},
   "source": [
    "## 3D points getting"
   ]
  },
  {
   "cell_type": "code",
   "execution_count": 172,
   "metadata": {},
   "outputs": [
    {
     "name": "stdout",
     "output_type": "stream",
     "text": [
      "left\n",
      "C:\\Users\\kawaw\\cpp\\ximea_test\\ximea_test\\imgs\\left/undistort\\005.png\n",
      "original points : (167.50357, 217.95299), x-end : (186.69292, 216.52585), y-end : (166.73119, 198.25276)\n",
      "right\n",
      "C:\\Users\\kawaw\\cpp\\ximea_test\\ximea_test\\imgs\\right/undistort\\005.png\n",
      "original points : (67.35576, 234.91321), x-end : (87.54615, 233.19896), y-end : (67.315384, 215.14175)\n"
     ]
    }
   ],
   "source": [
    "#SRC = r'C:\\Users\\kawaw\\utilities\\calibration\\20231010' #320_320\n",
    "leftSrc = os.path.join(SRC,\"left/undistort\")\n",
    "rightSrc = os.path.join(SRC,\"right/undistort\")\n",
    "imageLeft = os.path.join(leftSrc,\"005.png\")\n",
    "imageRight = os.path.join(rightSrc,\"005.png\")\n",
    "print(\"left\")\n",
    "ptsLeft = getAxis(cameraMatrix=K_left,dist=dist_left,src=imageLeft,boolReverse=True)\n",
    "print(\"right\")\n",
    "ptsRight = getAxis(cameraMatrix=K_right,dist=dist_right,src=imageRight,boolReverse=True)\n",
    "poses3D = []  # (original,xEnd,yEnd,zEnd)\n",
    "for ptLeft, ptRight in zip(ptsLeft,ptsRight):\n",
    "    pose3D = reconstruction(ptLeft,ptRight,CameraMatrix=cameraMatrix)\n",
    "    poses3D.append(pose3D)\n"
   ]
  },
  {
   "cell_type": "code",
   "execution_count": 173,
   "metadata": {},
   "outputs": [
    {
     "name": "stdout",
     "output_type": "stream",
     "text": [
      "[[44.27, 167.62, 516.2], [98.91, 165.27, 521.41], [42.42, 113.2, 520.0]]\n"
     ]
    }
   ],
   "source": [
    "print(poses3D)"
   ]
  },
  {
   "cell_type": "markdown",
   "metadata": {},
   "source": [
    "## calculate vertical vector"
   ]
  },
  {
   "cell_type": "code",
   "execution_count": 174,
   "metadata": {},
   "outputs": [],
   "source": [
    "def verticalVector(pt0,pt1,pt2):\n",
    "    diff_y01 = pt1[1]-pt0[1]\n",
    "    diff_y12 = pt2[1] - pt1[1]\n",
    "    diff_z01 = pt1[2] -pt0[2]\n",
    "    diff_z12 = pt2[2] - pt1[2]\n",
    "    diff_yz01 = pt0[2]*pt1[1] - pt1[2]*pt0[1]\n",
    "    diff_yz12 = pt1[2]*pt2[1] - pt2[2]*pt1[1]\n",
    "    diff_xy01 = pt0[0]*pt1[1] - pt1[0]*pt0[1]\n",
    "    diff_xy12 = pt1[0]*pt2[1] - pt2[0]*pt1[1]\n",
    "    diff_xz01 = pt0[0]*pt1[2] - pt1[0]*pt0[2]\n",
    "    diff_xz12 = pt1[0]*pt2[2] - pt2[0]*pt1[2]\n",
    "    a = (diff_y12*diff_yz01 - diff_y01*diff_yz12)/(diff_xy01*diff_yz12-diff_xy12*diff_yz01)\n",
    "    b = (diff_z12*diff_xz01- diff_z01*diff_xz12)/(-diff_yz01*diff_xz12 + diff_yz12*diff_xz01)\n",
    "    c = (diff_y12*diff_xy01 - diff_y01*diff_xy12)/(diff_yz01*diff_xy12-diff_yz12*diff_xy01)\n",
    "    n_vector = np.array([a,b,c])\n",
    "    print(n_vector)\n",
    "    n_norm = np.linalg.norm(n_vector)\n",
    "    #print(n_norm)\n",
    "    for i in range(3):\n",
    "        n_vector[i] = n_vector[i] / n_norm\n",
    "    return n_vector"
   ]
  },
  {
   "cell_type": "code",
   "execution_count": 175,
   "metadata": {},
   "outputs": [
    {
     "name": "stdout",
     "output_type": "stream",
     "text": [
      "[ 0.00017586 -0.00013915 -0.00190713]\n"
     ]
    }
   ],
   "source": [
    "n_vector = verticalVector(poses3D[0],poses3D[1],poses3D[2])"
   ]
  },
  {
   "cell_type": "markdown",
   "metadata": {},
   "source": [
    "### Camera coordinates"
   ]
  },
  {
   "cell_type": "code",
   "execution_count": 176,
   "metadata": {},
   "outputs": [],
   "source": [
    "#calculate pose\n",
    "CameraCoordinates = np.array([[1,0,0],[0,-1,0],[0,0,1]])"
   ]
  },
  {
   "cell_type": "markdown",
   "metadata": {},
   "source": [
    "## calculate pose"
   ]
  },
  {
   "cell_type": "code",
   "execution_count": 177,
   "metadata": {},
   "outputs": [],
   "source": [
    "import math\n",
    "# calculate direction by inner dots\n",
    "innerDots = []\n",
    "for i in range(3):\n",
    "    tempDot = 0\n",
    "    for j in range(3):\n",
    "        tempDot += n_vector[j]*CameraCoordinates[i][j]\n",
    "    innerDots.append(tempDot)\n",
    "innerDots = np.array(innerDots)\n",
    "thetas=[]\n",
    "for i in range(3):\n",
    "    theta = math.acos(innerDots[i])\n",
    "    thetas.append(theta)\n",
    "thetas = np.array(thetas)"
   ]
  },
  {
   "cell_type": "markdown",
   "metadata": {},
   "source": [
    "## Final : get pose of checker board"
   ]
  },
  {
   "cell_type": "code",
   "execution_count": 178,
   "metadata": {},
   "outputs": [
    {
     "name": "stdout",
     "output_type": "stream",
     "text": [
      "checker board 3d pose :  [44.27, 167.62, 516.2, 1.4790854080617886, 1.4982699546642992, 3.0245428717560325]\n"
     ]
    }
   ],
   "source": [
    "pose = []\n",
    "for i in range(3):\n",
    "    pose.append(poses3D[0][i])\n",
    "for i in range(3):\n",
    "    pose.append(thetas[i])\n",
    "print(\"checker board 3d pose : \",pose)"
   ]
  },
  {
   "cell_type": "markdown",
   "metadata": {},
   "source": [
    "# Get center Position"
   ]
  },
  {
   "cell_type": "code",
   "execution_count": 5,
   "metadata": {},
   "outputs": [],
   "source": [
    "import cv2\n",
    "import numpy as np\n",
    "\n",
    "class ColorTracking():\n",
    "    def __init__(self,a = 0,scale = 4):\n",
    "        self.a = a\n",
    "        self.scale = scale\n",
    "        \n",
    "    def dilation(self,img,dilationSize, kernelSize):  \n",
    "        \"\"\"return inflated img\n",
    "\n",
    "        Args:\n",
    "            img (_type_): img\n",
    "            dilationSize (_type_): dilation size\n",
    "            kernelSize (_type_): kernel size in dilation\n",
    "\n",
    "        Returns:\n",
    "            _type_: inflated mask\n",
    "        \"\"\"\n",
    "        kernel = np.ones((kernelSize, kernelSize), np.uint8)\n",
    "        element = cv2.getStructuringElement(\n",
    "        cv2.MORPH_RECT, (2 * dilationSize + 1, 2 * dilationSize + 1), (dilationSize, dilationSize))\n",
    "        dilation_img = cv2.dilate(img, kernel, element)\n",
    "        return dilation_img\n",
    "\n",
    "    #マスク画像取得\n",
    "    def getMask(frame,l, u):\n",
    "        # HSVに変換\n",
    "        hsv = cv2.cvtColor(frame, cv2.COLOR_BGR2HSV)\n",
    "        lower = np.array(l)\n",
    "        upper = np.array(u)\n",
    "        if lower[0] >= 0:\n",
    "            #色相が正の値のとき、赤以外のマスク\n",
    "            mask = cv2.inRange(hsv, lower, upper)\n",
    "        else:\n",
    "            #色相が負の値のとき、赤用マスク\n",
    "            h = hsv[:, :, 0]\n",
    "            s = hsv[:, :, 1]\n",
    "            v = hsv[:, :, 2]\n",
    "            mask = np.zeros(h.shape, dtype=np.uint8)\n",
    "            mask[((h < lower[0]*-1) | h > upper[0]) & (s > lower[1]) & (s < upper[1]) & (v > lower[2]) & (v < upper[2])] = 255\n",
    "        #opening process\n",
    "        kernel = np.ones((5,5),np.uint8)\n",
    "        opening = cv2.morphologyEx(mask, cv2.MORPH_CLOSE, kernel)\n",
    "        return mask,cv2.bitwise_and(frame,frame, mask= mask)\n",
    "    \n",
    "    def get_position(self,img,color,last_center=[None,None],getMask = getMask,r=None):\n",
    "        if r != None and last_center[0] != None:\n",
    "            w,h = img.shape[0],img.shape[1]\n",
    "            x00 = max(int(last_center[0]-self.scale/2*r),0)\n",
    "            x11 = min(int(last_center[0]+self.scale/2*r),w)\n",
    "            y00 = max(int(last_center[1]-self.scale/2*r),0)\n",
    "            y11 = min(int(last_center[1]+self.scale/2*r),h)\n",
    "            img = img[y00:y11,x00:x11,:]\n",
    "        #print(img.shape)\n",
    "        if color.lower() == \"blue\":\n",
    "            mask,masked_img = getMask(img,[159, 127,0], [177, 255, 255])\n",
    "        elif color.lower() == \"red\":\n",
    "            mask,masked_img = getMask(img,[-10,50,200], [170,255,255])\n",
    "        elif color.lower() == \"yellow\":\n",
    "            mask,masked_img = getMask(img,[20, 80, 10],[50, 255, 255])\n",
    "        elif color.lower() == \"orange\":\n",
    "            mask,masked_img = getMask(frame=img,l = [9,100,100],u = [29,255,255])\n",
    "        # 輪郭を抽出する。\n",
    "        contours, hierarchy = cv2.findContours(np.array(mask,dtype=np.uint8), cv2.RETR_EXTERNAL, cv2.CHAIN_APPROX_SIMPLE)\n",
    "\n",
    "        # 小さい輪郭は誤検出として削除する\n",
    "        contours = list(filter(lambda x: cv2.contourArea(x) > 20, contours))\n",
    "\n",
    "        Circularities = []\n",
    "        #print(contours)\n",
    "        for i in contours:\n",
    "            area = cv2.contourArea(i)\n",
    "            r = round((area/3)**(1/2),1) #equivalent radius\n",
    "            circumference = cv2.arcLength(i, True)\n",
    "            r0 = round(circumference/6,1)\n",
    "            circularity = r0 / r\n",
    "            Circularities.append(abs(1-circularity))\n",
    "        if len(Circularities)>=1:\n",
    "            idx = np.argmin(Circularities)\n",
    "            if Circularities[idx] <= 0.8:\n",
    "                #print(idx)\n",
    "                area = Circularities[idx]\n",
    "                i = contours[idx]\n",
    "                #マーカー位置計算\n",
    "                mu=cv2.moments(i)\n",
    "                x=int(mu[\"m10\"]/mu[\"m00\"])\n",
    "                y=int(mu[\"m01\"]/mu[\"m00\"])\n",
    "                return [x,y],r\n",
    "            else:\n",
    "                return[None,None],None\n",
    "        else:\n",
    "            return[None,None],None\n",
    "\n",
    "colorTracking = ColorTracking(scale = 3)\n",
    "\n",
    "SRC_LEFT = r'C:\\Users\\kawawaki\\code\\imgs\\calibration\\stereo\\512\\left\\undistort'\n",
    "SRC_RIGHT = r'C:\\Users\\kawawaki\\code\\imgs\\calibration\\stereo\\512\\right\\undistort'\n",
    "def get_center(colorTracking=colorTracking,src_left=SRC_LEFT,src_right=SRC_RIGHT):\n",
    "    Left = []\n",
    "    Right = []\n",
    "    save_dir_left = os.path.join(src_left,f\"center\")\n",
    "    if not os.path.exists(save_dir_left):\n",
    "        os.makedirs(save_dir_left)\n",
    "    save_dir_right = os.path.join(src_right,f\"center\")\n",
    "    if not os.path.exists(save_dir_right):\n",
    "        os.makedirs(save_dir_right)\n",
    "    for i in range(1,11):\n",
    "        img_right = cv2.imread(os.path.join(src_right,f\"{(i*50):03d}.jpg\"))\n",
    "        img_left= cv2.imread(os.path.join(src_left,f\"{(i*50):03d}.jpg\"))\n",
    "        pos_left,_ = colorTracking.get_position(img=img_left,color=\"orange\")\n",
    "        cv2.circle(img_left,(int(pos_left[0]),int(pos_left[1])),4,color=(255,0,0),thickness=-1)\n",
    "        cv2.imwrite(os.path.join(save_dir_left,f\"{(i*50):03d}.jpg\"),img_left)\n",
    "        pos_right,_ = colorTracking.get_position(img=img_right,color=\"orange\")\n",
    "        cv2.circle(img_right,(int(pos_right[0]),int(pos_right[1])),4,color=(255,0,0),thickness=-1)\n",
    "        cv2.imwrite(os.path.join(save_dir_right,f\"{(i*50):03d}.jpg\"),img_right)\n",
    "        Left.append(pos_left)\n",
    "        Right.append(pos_right)\n",
    "    return Left,Right\n",
    "\n",
    "Left,Right = get_center()"
   ]
  },
  {
   "cell_type": "markdown",
   "metadata": {},
   "source": [
    "#3D positioning & Evaluation"
   ]
  },
  {
   "cell_type": "code",
   "execution_count": 8,
   "metadata": {},
   "outputs": [
    {
     "name": "stderr",
     "output_type": "stream",
     "text": [
      "C:\\Users\\kawawaki\\AppData\\Local\\Temp\\ipykernel_21684\\740928215.py:55: UserWarning: Matplotlib is currently using module://matplotlib_inline.backend_inline, which is a non-GUI backend, so cannot show the figure.\n",
      "  fig.show()\n"
     ]
    },
    {
     "data": {
      "image/png": "[encoded data removed]",
      "text/plain": [
       "<Figure size 1000x2000 with 4 Axes>"
      ]
     },
     "metadata": {},
     "output_type": "display_data"
    }
   ],
   "source": [
    "import matplotlib.pyplot as plt\n",
    "#stereo2.py\n",
    "f_x = calibration.f_x\n",
    "f_y = calibration.f_y\n",
    "f_skew = calibration.f_skew\n",
    "o_x = calibration.o_x\n",
    "o_y = calibration.o_y\n",
    "\"\"\"stereo.py\n",
    "K = calibration.K\n",
    "f_x = K[0][0]\n",
    "f_y = K[1][1]\n",
    "f_skew = K[0][1]\n",
    "o_x = K[0][2]\n",
    "o_y = K[1][2]\n",
    "\"\"\"\n",
    "points_3d = []\n",
    "\n",
    "def reconstruction(point1:list,point2:list,f_x=f_x,f_y=f_y,f_skew=f_skew, o_x=o_x, o_y=o_y,baseline=BASELINE)->list:\n",
    "    \"\"\"calculate 3d position\n",
    "    Args:\n",
    "      point1(list):2d position of left camera [t,x,y]\n",
    "      point2(list):2d position of right camera [t,x,y]\n",
    "    Return:\n",
    "      (list):3d position\n",
    "    \"\"\"\n",
    "    [x_1,y_1] = point1\n",
    "    [x_2,y_2] = point2\n",
    "    disparity = abs(x_1 - x_2)\n",
    "    X = (baseline/disparity)*(x_1 - o_x - (f_skew/f_y)*(y_1 - o_y))\n",
    "    Y = baseline * (f_x/f_y) * (y_1 - o_y)/disparity\n",
    "    Z = (f_x * baseline)/disparity\n",
    "    return [X,Y,Z]\n",
    "\n",
    "Pos_3d = []\n",
    "for i in range(len(Left)):\n",
    "    pos = reconstruction(Left[i],Right[i])\n",
    "    Pos_3d.append(pos)\n",
    "Pos_3d = np.array(Pos_3d)\n",
    "\n",
    "ref_pos = [i*500 for i in range(1,11)]\n",
    "errors = []\n",
    "for i in range(len(ref_pos)):\n",
    "    error = abs(Pos_3d[i,2] - ref_pos[i])\n",
    "    errors.append(error)\n",
    "fig,ax = plt.subplots(4,1,figsize=(10,20),tight_layout = True)\n",
    "ax[0].plot(Pos_3d[:,0])\n",
    "ax[0].set_title(\"X\")\n",
    "ax[1].plot(Pos_3d[:,1])\n",
    "ax[1].set_title(\"Y\")\n",
    "ax[2].plot(ref_pos,Pos_3d[:,2],marker=\"o\",linewidth=0)\n",
    "ax[2].plot(ref_pos,ref_pos,linestyle=\"--\",color=\"r\")\n",
    "ax[2].set_title(\"Z\")\n",
    "ax[3].plot(errors)\n",
    "ax[3].set_title(\"Depth Error\")\n",
    "fig.show()"
   ]
  },
  {
   "cell_type": "code",
   "execution_count": null,
   "metadata": {},
   "outputs": [],
   "source": []
  }
 ],
 "metadata": {
  "kernelspec": {
   "display_name": "kawawaki",
   "language": "python",
   "name": "python3"
  },
  "language_info": {
   "codemirror_mode": {
    "name": "ipython",
    "version": 3
   },
   "file_extension": ".py",
   "mimetype": "text/x-python",
   "name": "python",
   "nbconvert_exporter": "python",
   "pygments_lexer": "ipython3",
   "version": "3.11.4"
  },
  "orig_nbformat": 4
 },
 "nbformat": 4,
 "nbformat_minor": 2
}
