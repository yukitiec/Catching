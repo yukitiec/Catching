{
 "cells": [
  {
   "cell_type": "markdown",
   "metadata": {},
   "source": [
    "# Import Library"
   ]
  },
  {
   "cell_type": "code",
   "execution_count": null,
   "metadata": {},
   "outputs": [],
   "source": [
    "import csv \n",
    "import matplotlib.pyplot as plt\n",
    "import numpy as np\n",
    "import os\n",
    "import pandas as pd\n",
    "import cv2\n",
    "import glob\n",
    "import os\n",
    "import re\n",
    "from mpl_toolkits.mplot3d import Axes3D\n",
    "import numpy as np"
   ]
  },
  {
   "cell_type": "markdown",
   "metadata": {},
   "source": [
    "# Ground Truth data by yolov8x-pose"
   ]
  },
  {
   "cell_type": "code",
   "execution_count": null,
   "metadata": {},
   "outputs": [],
   "source": [
    "#root directory\n",
    "rootDir = r\"C:\\Users\\kawaw\\data_Tracking\\jointsTracking\\1129\"\n",
    "#left\n",
    "yoloFile_left = os.path.join(rootDir,\"yolo_left_GT.csv\")\n",
    "dfGT_left = pd.read_csv(filepath_or_buffer=yoloFile_left)\n",
    "dataGT_left = dfGT_left.values\n",
    "#right\n",
    "yoloFile_right = os.path.join(rootDir,\"yolo_right_GT.csv\")\n",
    "dfGT_right = pd.read_csv(filepath_or_buffer=yoloFile_right)\n",
    "dataGT_right = dfGT_right.values"
   ]
  },
  {
   "cell_type": "code",
   "execution_count": null,
   "metadata": {},
   "outputs": [],
   "source": [
    "print(dataGT_left[0])\n",
    "print(dataGT_right[0])"
   ]
  },
  {
   "cell_type": "markdown",
   "metadata": {},
   "source": [
    "## Calculate 3D position"
   ]
  },
  {
   "cell_type": "code",
   "execution_count": null,
   "metadata": {},
   "outputs": [],
   "source": [
    "#constant setting\n",
    "cameraMatrix = [[297.0, 0, 151.5], # fx: focal length in x, cx: principal point x\n",
    "                [0, 297.5, 149.0], #fy: focal length in y, cy: principal point y\n",
    "                [0, 0, 1]          #1: scaling factor\n",
    "                ]\n",
    "fX = cameraMatrix[0][0]\n",
    "fY = cameraMatrix[1][1]\n",
    "fSkew = cameraMatrix[0][1]\n",
    "oX = cameraMatrix[0][2]\n",
    "oY = cameraMatrix[1][2]\n",
    "\n",
    "transform_cam2base = [[1,0,0,0],[0,1,0,0],[0,0,1,0],[0,0,0,1]]\n",
    "BASELINE = 280\n",
    "epsiron = 0.001"
   ]
  },
  {
   "cell_type": "code",
   "execution_count": null,
   "metadata": {},
   "outputs": [],
   "source": [
    "print(dataGT_left.shape)"
   ]
  },
  {
   "cell_type": "code",
   "execution_count": null,
   "metadata": {},
   "outputs": [],
   "source": [
    "def calculate3D(left,right):\n",
    "    frameIndex = left[0]\n",
    "    results = []\n",
    "    for i in range(6):\n",
    "        xl = left[3*i+1]\n",
    "        yl = left[3*i+2]\n",
    "        xr = right[3*i+1]\n",
    "        yr = right[3*i+2]\n",
    "        disparity = xl-xr\n",
    "        if disparity < 0.00001:\n",
    "            disparity += epsiron\n",
    "        X = (BASELINE / disparity) * (xl - oX - (fSkew / fY) * (yl - oY))\n",
    "        Y = (BASELINE * (fX / fY) * (yl - oY) / disparity)\n",
    "        Z = (fX * BASELINE / disparity)\n",
    "        X = transform_cam2base[0][0] * X + transform_cam2base[0][1] * Y + transform_cam2base[0][2] * Z + transform_cam2base[0][3]\n",
    "        Y = transform_cam2base[1][0] * X + transform_cam2base[1][1] * Y + transform_cam2base[1][2] * Z + transform_cam2base[1][3]\n",
    "        Z = transform_cam2base[2][0] * X + transform_cam2base[2][1] * Y + transform_cam2base[2][2] * Z + transform_cam2base[2][3]\n",
    "        results.append(frameIndex)\n",
    "        results.append(X)\n",
    "        results.append(Y)\n",
    "        results.append(Z)\n",
    "    return results\n",
    "\n",
    "def convert3D(data_left,data_right):\n",
    "    counter_left = 0\n",
    "    counter_right = 0\n",
    "    counter = 1\n",
    "    results = []\n",
    "    while (counter<data_right.shape[0]):\n",
    "        if (data_left[counter_left][0] == data_right[counter_right][0]):\n",
    "            result = calculate3D(data_left[counter_left],data_right[counter_right])\n",
    "            results.append(result)\n",
    "            counter_left+=1\n",
    "            counter_right+=1\n",
    "        else:\n",
    "            if (len(results)>=1):\n",
    "                result = results[-1]\n",
    "                for i in range(6):\n",
    "                    result[3*i] = counter\n",
    "                results.append(result)\n",
    "        if (data_left[counter_left][0] < data_right[counter_right][0]):\n",
    "            counter_left+=1\n",
    "        elif (data_left[counter_left][0] > data_right[counter_right][0]):\n",
    "            counter_right += 1\n",
    "        counter+=1\n",
    "    return np.array(results)"
   ]
  },
  {
   "cell_type": "code",
   "execution_count": null,
   "metadata": {},
   "outputs": [],
   "source": [
    "pos3D_GT = convert3D(data_left=dataGT_left,data_right=dataGT_right)"
   ]
  },
  {
   "cell_type": "markdown",
   "metadata": {},
   "source": [
    "### plot 3d position"
   ]
  },
  {
   "cell_type": "code",
   "execution_count": null,
   "metadata": {},
   "outputs": [],
   "source": [
    "markers=['o','s','D','+','x','^','v','>','<','p','H','8']\n",
    "\n",
    "def plot_data(dataGT,title):\n",
    "    leftShoulder = dataGT[:,:4]\n",
    "    rightShoulder = dataGT[:,4:8]\n",
    "    leftElbow = dataGT[:,8:12]\n",
    "    rightElbow = dataGT[:,12:16]\n",
    "    leftWrist = dataGT[:,16:20]\n",
    "    rightWrist = dataGT[:,20:24]\n",
    "    fig,ax = plt.subplots(3,1,figsize=(12,8))\n",
    "    ax[0].plot(leftShoulder[:,0],leftShoulder[:,1],color=\"r\",linestyle=\"-\",marker='o',label=\"left shoulder\")\n",
    "    ax[1].plot(leftShoulder[:,0],leftShoulder[:,2],color=\"r\",linestyle=\"-\",marker='o')\n",
    "    ax[2].plot(leftShoulder[:,0],leftShoulder[:,3],color=\"r\",linestyle=\"-\",marker='o')\n",
    "    ax[0].plot(rightShoulder[:,0],rightShoulder[:,1],color=\"r\",linestyle=\"--\",marker='D',label=\"right shoulder\")\n",
    "    ax[1].plot(rightShoulder[:,0],rightShoulder[:,2],color=\"r\",linestyle=\"--\",marker='D')\n",
    "    ax[2].plot(rightShoulder[:,0],rightShoulder[:,3],color=\"r\",linestyle=\"--\",marker='D')\n",
    "    ax[0].plot(leftElbow[:,0],leftElbow[:,1],color=\"g\",linestyle=\"-\",marker='o',label=\"left elbow\")\n",
    "    ax[1].plot(leftElbow[:,0],leftElbow[:,2],color=\"g\",linestyle=\"-\",marker='o')\n",
    "    ax[2].plot(leftElbow[:,0],leftElbow[:,3],color=\"g\",linestyle=\"-\",marker='o')\n",
    "    ax[0].plot(rightElbow[:,0],rightElbow[:,1],color=\"g\",linestyle=\"--\",marker='D',label=\"right elbow\")\n",
    "    ax[1].plot(rightElbow[:,0],rightElbow[:,2],color=\"g\",linestyle=\"--\",marker='D')\n",
    "    ax[2].plot(rightElbow[:,0],rightElbow[:,3],color=\"g\",linestyle=\"--\",marker='D')\n",
    "    ax[0].plot(leftWrist[:,0],leftWrist[:,1],color=\"b\",linestyle=\"-\",marker='o',label=\"left Wrist\")\n",
    "    ax[1].plot(leftWrist[:,0],leftWrist[:,2],color=\"b\",linestyle=\"-\",marker='o')\n",
    "    ax[2].plot(leftWrist[:,0],leftWrist[:,3],color=\"b\",linestyle=\"-\",marker='o')\n",
    "    ax[0].plot(rightWrist[:,0],rightWrist[:,1],color=\"b\",linestyle=\"--\",marker='D',label=\"right Wrist\")\n",
    "    ax[1].plot(rightWrist[:,0],rightWrist[:,2],color=\"b\",linestyle=\"--\",marker='D')\n",
    "    ax[2].plot(rightWrist[:,0],rightWrist[:,3],color=\"b\",linestyle=\"--\",marker='D')\n",
    "    ax[0].set_ylim(-500,1000)\n",
    "    ax[1].set_ylim(-500,1000)\n",
    "    ax[2].set_ylim(0,2000)\n",
    "    ax[0].set_ylabel(\"X\")\n",
    "    ax[1].set_ylabel(\"Y\")\n",
    "    ax[2].set_ylabel(\"Z\")\n",
    "    ax[2].set_xlabel(\"frame index\")\n",
    "    ax[0].set_title(title)\n",
    "    fig.legend()\n",
    "    plt.show()\n",
    "\n",
    "plot_data(pos3D_GT,title=\"3D\")"
   ]
  },
  {
   "cell_type": "markdown",
   "metadata": {},
   "source": [
    "## Plot ground truth data"
   ]
  },
  {
   "cell_type": "code",
   "execution_count": null,
   "metadata": {},
   "outputs": [],
   "source": [
    "markers=['o','s','D','+','x','^','v','>','<','p','H','8']\n",
    "colors = [\"r\",\"g\",\"b\",\"c\",\"m\",\"y\",\"k\"]\n",
    "names = [\"LS\",\"RS\",\"LE\",\"RE\",\"LW\",\"RW\"]\n",
    "connections = [[0,1],[0,2],[1,3],[2,4],[3,5]]"
   ]
  },
  {
   "cell_type": "code",
   "execution_count": null,
   "metadata": {},
   "outputs": [],
   "source": [
    "rootDir = r\"C:\\Users\\kawaw\\data_Tracking\\jointsTracking\\1129\"\n",
    "SaveDir = os.path.join(rootDir,\"3D_GT\")\n",
    "def plot3DMap(pos3D_GT,saveDir=SaveDir):\n",
    "    if not os.path.exists(saveDir):\n",
    "        os.makedirs(saveDir)\n",
    "    for j in range(pos3D_GT.shape[0]):\n",
    "        # Create a 3D plot\n",
    "        fig = plt.figure(figsize=(10,10))\n",
    "        ax = fig.add_subplot(111, projection='3d')\n",
    "\n",
    "        # Plot the 3D data\n",
    "        for i in range(6):\n",
    "            ax.plot(pos3D_GT[j][4*i+1], pos3D_GT[j][4*i+2], pos3D_GT[j][4*i+3], color=colors[i],marker=markers[i],markersize=10,label=names[i])\n",
    "        for [k,l] in connections:\n",
    "            ax.plot([pos3D_GT[j][4*k+1],pos3D_GT[j][4*l+1]], [pos3D_GT[j][4*k+2],pos3D_GT[j][4*l+2]], [pos3D_GT[j][4*k+3],pos3D_GT[j][4*l+3]], linestyle='-', color='k')\n",
    "\n",
    "        # Customize the plot\n",
    "        ax.set_xlabel('X')\n",
    "        ax.set_ylabel('Y')\n",
    "        ax.set_zlabel('Z')\n",
    "        ax.set_xlim(-500,1000)\n",
    "        ax.set_ylim(-500,1000)\n",
    "        ax.set_zlim(0,2000)\n",
    "        ax.set_title(f'{(j+1):03d} frames')\n",
    "        ax.legend()\n",
    "        savePath = os.path.join(saveDir,f'{(j+1):03d}.jpg')\n",
    "        fig.savefig(savePath,bbox_inches='tight')\n",
    "\n",
    "def atoi(text):\n",
    "        return int(text) if text.isdigit() else text\n",
    "\n",
    "def natural_keys(text):\n",
    "    return [ atoi(c) for c in re.split(r'(\\d+)', text) ]\n",
    "\n",
    "def makeVideo(srcDir,videoFps,outputVideoName):\n",
    "        img_array=[]\n",
    "        for filename in sorted(glob.glob(f\"{srcDir}/*.jpg\"), key=natural_keys):\n",
    "            img = cv2.imread(filename)\n",
    "            height, width, layers = img.shape\n",
    "            size = (width, height)\n",
    "            img_array.append(img)\n",
    "\n",
    "        out = cv2.VideoWriter(outputVideoName, cv2.VideoWriter_fourcc(*'mp4v'), videoFps, size)\n",
    "\n",
    "        for i in range(len(img_array)):\n",
    "            out.write(img_array[i])\n",
    "        out.release()"
   ]
  },
  {
   "cell_type": "markdown",
   "metadata": {},
   "source": [
    "### make video"
   ]
  },
  {
   "cell_type": "code",
   "execution_count": null,
   "metadata": {},
   "outputs": [],
   "source": [
    "VideoName = os.path.join(rootDir,\"3D_GT.mp4\")\n",
    "plot3DMap(pos3D_GT=pos3D_GT,saveDir=SaveDir)\n",
    "makeVideo(srcDir=SaveDir,videoFps=30,outputVideoName=VideoName)"
   ]
  },
  {
   "cell_type": "markdown",
   "metadata": {},
   "source": [
    "# Real-time"
   ]
  },
  {
   "cell_type": "markdown",
   "metadata": {},
   "source": [
    "## load data"
   ]
  },
  {
   "cell_type": "code",
   "execution_count": null,
   "metadata": {},
   "outputs": [],
   "source": [
    "#root directory\n",
    "rootDir = r\"C:\\Users\\kawaw\\data_Tracking\\jointsTracking\\1129\"\n",
    "#left\n",
    "file3d_RT = os.path.join(rootDir,\"triangulation.csv\")\n",
    "df3d_RT = pd.read_csv(filepath_or_buffer=file3d_RT)\n",
    "data3d_RT = df3d_RT.values\n",
    "print(data3d_RT[0])"
   ]
  },
  {
   "cell_type": "markdown",
   "metadata": {},
   "source": [
    "## plot data"
   ]
  },
  {
   "cell_type": "code",
   "execution_count": null,
   "metadata": {},
   "outputs": [],
   "source": [
    "plot_data(data3d_RT,title=\"3D\")"
   ]
  },
  {
   "cell_type": "markdown",
   "metadata": {},
   "source": [
    "## plot 3d map"
   ]
  },
  {
   "cell_type": "code",
   "execution_count": null,
   "metadata": {},
   "outputs": [],
   "source": [
    "rootDir = r\"C:\\Users\\kawaw\\data_Tracking\\jointsTracking\\1129\"\n",
    "SaveDir = os.path.join(rootDir,\"3D_RT\")\n",
    "VideoName = os.path.join(rootDir,\"3D_RT.mp4\")\n",
    "plot3DMap(pos3D_GT=data3d_RT,saveDir=SaveDir)\n",
    "makeVideo(srcDir=SaveDir,videoFps=30,outputVideoName=VideoName)"
   ]
  },
  {
   "cell_type": "markdown",
   "metadata": {},
   "source": [
    "# Plot 3D map both GT and Real-time"
   ]
  },
  {
   "cell_type": "code",
   "execution_count": null,
   "metadata": {},
   "outputs": [],
   "source": [
    "markers=['o','s','D','+','x','^','v','>','<','p','H','8']\n",
    "colors = [\"r\",\"g\",\"b\",\"c\",\"m\",\"y\",\"k\"]\n",
    "names = [\"LS\",\"RS\",\"LE\",\"RE\",\"LW\",\"RW\"]\n",
    "connections = [[0,1],[0,2],[1,3],[2,4],[3,5]]"
   ]
  },
  {
   "cell_type": "code",
   "execution_count": null,
   "metadata": {},
   "outputs": [],
   "source": [
    "data3d_RT[:,0]"
   ]
  },
  {
   "cell_type": "code",
   "execution_count": null,
   "metadata": {},
   "outputs": [],
   "source": [
    "indexes = np.where(data3d_RT[:,0]==19)[0]\n",
    "print(indexes[0])"
   ]
  },
  {
   "cell_type": "code",
   "execution_count": null,
   "metadata": {},
   "outputs": [],
   "source": [
    "#plot part\n",
    "def plotBoth3DMap(pos3D_GT,pos3D_RT,saveDir=SaveDir):\n",
    "    if not os.path.exists(saveDir):\n",
    "        os.makedirs(saveDir)\n",
    "    latestPositions_GT = np.zeros((24))\n",
    "    latestPositions_RT = np.zeros((24))\n",
    "    counter = 1\n",
    "    while counter<pos3D_RT[-1][0] or counter<pos3D_GT[-1][0]:\n",
    "        # Create a 3D plot\n",
    "        fig = plt.figure(figsize=(10,10))\n",
    "        ax = fig.add_subplot(111, projection='3d')\n",
    "        #new position available\n",
    "        if counter in pos3D_RT[:,0]:\n",
    "            indexes = np.where(pos3D_RT[:,0]==counter)[0]\n",
    "            if len(indexes) >=2:\n",
    "                index = indexes[-1]\n",
    "            else:\n",
    "                index = indexes[0]\n",
    "            print(counter, index)\n",
    "            latestPositions_RT = pos3D_RT[index]\n",
    "        if counter in pos3D_GT[:,0]:\n",
    "            indexes = np.where(pos3D_GT[:,0]==counter)[0]\n",
    "            if len(indexes) >=2:\n",
    "                index = indexes[-1]\n",
    "            else:\n",
    "                index = indexes[0]\n",
    "            print(counter,index)\n",
    "            latestPositions_GT = pos3D_GT[index]\n",
    "\n",
    "        # Plot the 3D data points\n",
    "        for i in range(6):\n",
    "            if latestPositions_GT[0] != 0:\n",
    "                ax.plot(latestPositions_GT[4*i+1], latestPositions_GT[4*i+2], latestPositions_GT[4*i+3], color=colors[0],marker=markers[i],markersize=10,label=names[i])\n",
    "            if latestPositions_RT[0] != 0:\n",
    "                ax.plot(latestPositions_RT[4*i+1], latestPositions_RT[4*i+2], latestPositions_RT[4*i+3], color=colors[2],marker=markers[i],markersize=10,label=names[i])\n",
    "        # connect dots\n",
    "        for [k,l] in connections:\n",
    "            if latestPositions_GT[0] != 0:\n",
    "                ax.plot([latestPositions_GT[4*k+1],latestPositions_GT[4*l+1]], [latestPositions_GT[4*k+2],latestPositions_GT[4*l+2]], [latestPositions_GT[4*k+3],latestPositions_GT[4*l+3]], linestyle='--', color=colors[0])\n",
    "            if latestPositions_RT[0] != 0:\n",
    "                ax.plot([latestPositions_RT[4*k+1],latestPositions_RT[4*l+1]], [latestPositions_RT[4*k+2],latestPositions_RT[4*l+2]], [latestPositions_RT[4*k+3],latestPositions_RT[4*l+3]], linestyle='--', color=colors[2])\n",
    "\n",
    "        # Customize the plot\n",
    "        ax.set_xlabel('X')\n",
    "        ax.set_ylabel('Y')\n",
    "        ax.set_zlabel('Z')\n",
    "        ax.set_xlim(-500,1000)\n",
    "        ax.set_ylim(-500,1000)\n",
    "        ax.set_zlim(0,2000)\n",
    "        ax.set_title(f'{(counter):03d} frames')\n",
    "        ax.legend()\n",
    "        savePath = os.path.join(saveDir,f'{(counter):03d}.jpg')\n",
    "        fig.savefig(savePath,bbox_inches='tight')\n",
    "        counter += 1"
   ]
  },
  {
   "cell_type": "code",
   "execution_count": null,
   "metadata": {},
   "outputs": [],
   "source": [
    "rootDir = r\"C:\\Users\\kawaw\\data_Tracking\\jointsTracking\\1129\"\n",
    "SaveDir = os.path.join(rootDir,\"3D_RT_GT\")\n",
    "VideoName = os.path.join(rootDir,\"3D_RT_GT.mp4\")\n",
    "plotBoth3DMap(pos3D_GT=pos3D_GT,pos3D_RT=data3d_RT,saveDir=SaveDir)\n",
    "makeVideo(srcDir=SaveDir,videoFps=10,outputVideoName=VideoName)"
   ]
  },
  {
   "cell_type": "markdown",
   "metadata": {},
   "source": [
    "# Make movie"
   ]
  },
  {
   "cell_type": "markdown",
   "metadata": {},
   "source": [
    "## Define function "
   ]
  },
  {
   "cell_type": "markdown",
   "metadata": {},
   "source": [
    "### Constant value"
   ]
  },
  {
   "cell_type": "code",
   "execution_count": null,
   "metadata": {},
   "outputs": [],
   "source": [
    "#ROI size\n",
    "ROISIZE=30\n",
    "COLOR_GT = [255,255,255]\n",
    "COLOR_RT = [255,0,0]"
   ]
  },
  {
   "cell_type": "code",
   "execution_count": null,
   "metadata": {},
   "outputs": [],
   "source": [
    "class Video():\n",
    "    def __init__(self,dataGT,videoFps,videoPath,saveImgDir,outputVideoName,sizeRoi=ROISIZE,colorGT=COLOR_GT,colorRT=COLOR_RT):\n",
    "        self.sizeRoi =sizeRoi\n",
    "        self.dataGT = dataGT\n",
    "        self.videoFps = videoFps\n",
    "        self.videoPath = videoPath\n",
    "        self.saveImgDir = saveImgDir\n",
    "        self.outputVideoName = outputVideoName\n",
    "        self.colorGT = colorGT\n",
    "        self.colorRT=colorRT\n",
    "        #draw rectangle in images\n",
    "        self.editVideo()\n",
    "        #make video from images\n",
    "        self.makeVideo()\n",
    "\n",
    "    def drawRectangle(self,frame,centerX,centerY,color,sizeRoi=ROISIZE,width=320,height=320):\n",
    "        cv2.rectangle(frame,(min(max(int(centerX-ROISIZE/2),0),width),min(max(int(centerY-ROISIZE/2),0),height)),(max(min(int(centerX+ROISIZE/2),width),0),max(min(int(centerY+ROISIZE/2),height),0)),thickness=2,color=color)\n",
    "\n",
    "    def editVideo(self):\n",
    "        #arrange data\n",
    "        leftShoulderGT = self.dataGT[:,:3]\n",
    "        rightShoulderGT = self.dataGT[:,3:6]\n",
    "        leftElbowGT = self.dataGT[:,6:9]\n",
    "        rightElbowGT = self.dataGT[:,9:12]\n",
    "        leftWristGT = self.dataGT[:,12:15]\n",
    "        rightWristGT = self.dataGT[:,15:18]\n",
    "\n",
    "        # Open the video file\n",
    "        cap = cv2.VideoCapture(self.videoPath)\n",
    "\n",
    "        # Check if the video file opened successfully\n",
    "        if not cap.isOpened():\n",
    "            print(\"Error opening video file\")\n",
    "            return\n",
    "\n",
    "        # Create the output folder if it doesn't exist\n",
    "        if not os.path.exists(self.saveImgDir):\n",
    "            os.makedirs(self.saveImgDir)\n",
    "\n",
    "        # Get the frames per second (fps) and frame dimensions\n",
    "        #fps = cap.get(cv2.CAP_PROP_FPS)\n",
    "        width = int(cap.get(cv2.CAP_PROP_FRAME_WIDTH))\n",
    "        height = int(cap.get(cv2.CAP_PROP_FRAME_HEIGHT))\n",
    "\n",
    "        # Start reading and saving frames\n",
    "        counter = 1\n",
    "        while True:\n",
    "            print(counter)\n",
    "            ret, frame = cap.read()\n",
    "\n",
    "            if not ret:\n",
    "                break\n",
    "            \n",
    "            #groundTruth\n",
    "            #LS\n",
    "            if counter in leftShoulderGT[:,0]: #detected\n",
    "                [indexLS] = np.where(leftShoulderGT[:,0]==counter)[0]\n",
    "                centerX = leftShoulderGT[indexLS,1]\n",
    "                centerY = leftShoulderGT[indexLS,2]\n",
    "                self.drawRectangle(frame,centerX=centerX,centerY=centerY,color=self.colorGT,width=width,height=height)\n",
    "            #RS\n",
    "            if counter in rightShoulderGT[:,0]:\n",
    "                [indexRS] = np.where(rightShoulderGT[:,0]==counter)[0]\n",
    "                [centerX,centerY] = rightShoulderGT[indexRS,1:]\n",
    "                self.drawRectangle(frame,centerX=centerX,centerY=centerY,color=self.colorGT,width=width,height=height)\n",
    "            #LE\n",
    "            if counter in leftElbowGT[:,0]:\n",
    "                [indexLE] = np.where(leftElbowGT[:,0]==counter)[0]\n",
    "                [centerX,centerY] = leftElbowGT[indexLE,1:]\n",
    "                self.drawRectangle(frame,centerX=centerX,centerY=centerY,color=self.colorGT,width=width,height=height)\n",
    "            #RE\n",
    "            if counter in rightElbowGT[:,0]:\n",
    "                [indexRE] = np.where(rightElbowGT[:,0]==counter)[0]\n",
    "                [centerX,centerY] = rightElbowGT[indexRE,1:]\n",
    "                self.drawRectangle(frame,centerX=centerX,centerY=centerY,color=self.colorGT,width=width,height=height)\n",
    "            #LW\n",
    "            if counter in leftWristGT[:,0]:\n",
    "                [indexLW] = np.where(leftWristGT[:,0]==counter)[0]\n",
    "                [centerX,centerY] = leftWristGT[indexLW,1:]\n",
    "                self.drawRectangle(frame,centerX=centerX,centerY=centerY,color=self.colorGT,width=width,height=height)\n",
    "            #RW\n",
    "            if counter in rightWristGT[:,0]:\n",
    "                [indexRW] = np.where(rightWristGT[:,0]==counter)[0]\n",
    "                [centerX,centerY] = rightWristGT[indexRW,1:]\n",
    "                self.drawRectangle(frame,centerX=centerX,centerY=centerY,color=self.colorGT,width=width,height=height)\n",
    "                \n",
    "            # Save the frame as an image\n",
    "            frame_filename = os.path.join(self.saveImgDir, f\"{counter:03d}.png\")\n",
    "            cv2.imwrite(frame_filename, frame)\n",
    "\n",
    "            counter += 1\n",
    "        # Release the video capture object\n",
    "        cap.release()\n",
    "\n",
    "    def atoi(self,text):\n",
    "        return int(text) if text.isdigit() else text\n",
    "\n",
    "    def natural_keys(self,text):\n",
    "        return [ self.atoi(c) for c in re.split(r'(\\d+)', text) ]\n",
    "\n",
    "    def makeVideo(self):\n",
    "        img_array=[]\n",
    "        for filename in sorted(glob.glob(f\"{self.saveImgDir}/*.png\"), key=self.natural_keys):\n",
    "            img = cv2.imread(filename)\n",
    "            height, width, layers = img.shape\n",
    "            size = (width, height)\n",
    "            img_array.append(img)\n",
    "\n",
    "        out = cv2.VideoWriter(self.outputVideoName, cv2.VideoWriter_fourcc(*'mp4v'), self.videoFps, (320,320))\n",
    "\n",
    "        for i in range(len(img_array)):\n",
    "            out.write(img_array[i])\n",
    "        out.release()"
   ]
  },
  {
   "cell_type": "code",
   "execution_count": null,
   "metadata": {},
   "outputs": [],
   "source": [
    "CAMERA = \"right\"\n",
    "rootDir = r\"C:\\Users\\kawaw\\data_Tracking\\jointsTracking\\1129\"\n",
    "VideoPath = os.path.join(rootDir,\"joints_front_{}.mp4\".format(CAMERA))\n",
    "SaveImgDir = os.path.join(rootDir,\"imgs_{}\".format(CAMERA))\n",
    "OutputVideoName = os.path.join(rootDir,\"joints_front_{}_GT.mp4\".format(CAMERA))\n",
    "video = Video(dataGT=dataGT_right,videoFps=30,videoPath=VideoPath,saveImgDir=SaveImgDir,outputVideoName=OutputVideoName,sizeRoi=ROISIZE,colorGT=COLOR_GT,colorRT=COLOR_RT)"
   ]
  },
  {
   "cell_type": "code",
   "execution_count": null,
   "metadata": {},
   "outputs": [],
   "source": []
  }
 ],
 "metadata": {
  "kernelspec": {
   "display_name": "kawawaki",
   "language": "python",
   "name": "python3"
  },
  "language_info": {
   "codemirror_mode": {
    "name": "ipython",
    "version": 3
   },
   "file_extension": ".py",
   "mimetype": "text/x-python",
   "name": "python",
   "nbconvert_exporter": "python",
   "pygments_lexer": "ipython3",
   "version": "3.11.4"
  }
 },
 "nbformat": 4,
 "nbformat_minor": 2
}
